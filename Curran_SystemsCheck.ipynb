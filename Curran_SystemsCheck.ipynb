{
 "cells": [
  {
   "cell_type": "markdown",
   "id": "3df8b472",
   "metadata": {},
   "source": [
    "# System Check assignment\n",
    "\n",
    "## Delaney Curran\n",
    "\n",
    "### What do I want to get out of this class?\n",
    "\n",
    "**I Would like to be confident with my skills in python**\n",
    "\n",
    "*This skill will help me get a job in the future*\n",
    "\n",
    "1. High paying job.\n",
    "\n",
    "2. A job I enjoy.\n",
    "\n",
    "![](https://www.python.org/static/community_logos/python-logo-master-v3-TM.png)\n"
   ]
  },
  {
   "cell_type": "code",
   "execution_count": 9,
   "id": "391f01a8",
   "metadata": {},
   "outputs": [
    {
     "name": "stdout",
     "output_type": "stream",
     "text": [
      "1\n",
      "2\n",
      "3\n",
      "4\n"
     ]
    }
   ],
   "source": [
    "for i in [1,2,3,4]:\n",
    "    print(i)\n",
    "    "
   ]
  },
  {
   "cell_type": "code",
   "execution_count": 10,
   "id": "1a023978",
   "metadata": {
    "scrolled": true
   },
   "outputs": [
    {
     "name": "stdout",
     "output_type": "stream",
     "text": [
      "Delaney\n"
     ]
    }
   ],
   "source": [
    "x = \"Delaney\"\n",
    "print(x)"
   ]
  },
  {
   "cell_type": "code",
   "execution_count": 11,
   "id": "745ea5eb",
   "metadata": {},
   "outputs": [],
   "source": [
    "def names (x):\n",
    "    return(x)"
   ]
  },
  {
   "cell_type": "code",
   "execution_count": 12,
   "id": "b68e2be1",
   "metadata": {},
   "outputs": [
    {
     "name": "stdout",
     "output_type": "stream",
     "text": [
      "Delaney\n"
     ]
    }
   ],
   "source": [
    "y = names(\"Delaney\")\n",
    "print(y)"
   ]
  }
 ],
 "metadata": {
  "kernelspec": {
   "display_name": "Python 3 (ipykernel)",
   "language": "python",
   "name": "python3"
  },
  "language_info": {
   "codemirror_mode": {
    "name": "ipython",
    "version": 3
   },
   "file_extension": ".py",
   "mimetype": "text/x-python",
   "name": "python",
   "nbconvert_exporter": "python",
   "pygments_lexer": "ipython3",
   "version": "3.10.4"
  }
 },
 "nbformat": 4,
 "nbformat_minor": 5
}
