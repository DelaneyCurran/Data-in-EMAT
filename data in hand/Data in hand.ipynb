{
 "cells": [
  {
   "cell_type": "markdown",
   "id": "99d0894f",
   "metadata": {},
   "source": [
    "# Final Project: Data in Hand\n",
    "## Delaney Curran\n",
    "### 12/01/2022"
   ]
  },
  {
   "cell_type": "code",
   "execution_count": null,
   "id": "67c05067",
   "metadata": {},
   "outputs": [],
   "source": [
    "import pandas as pd\n",
    "import numpy as np\n",
    "#from sklearn import linear_model\n",
    "import requests\n",
    "from nba_api.stats import endpoints\n",
    "from matplotlib import pyplot as plt\n",
    "from scipy import stats\n",
    "import json"
   ]
  },
  {
   "cell_type": "code",
   "execution_count": 27,
   "id": "fb5bcafb",
   "metadata": {},
   "outputs": [
    {
     "name": "stdout",
     "output_type": "stream",
     "text": [
      "Number of teams fetched: 30\n"
     ]
    },
    {
     "data": {
      "text/plain": [
       "[{'id': 1610612737,\n",
       "  'full_name': 'Atlanta Hawks',\n",
       "  'abbreviation': 'ATL',\n",
       "  'nickname': 'Hawks',\n",
       "  'city': 'Atlanta',\n",
       "  'state': 'Atlanta',\n",
       "  'year_founded': 1949},\n",
       " {'id': 1610612738,\n",
       "  'full_name': 'Boston Celtics',\n",
       "  'abbreviation': 'BOS',\n",
       "  'nickname': 'Celtics',\n",
       "  'city': 'Boston',\n",
       "  'state': 'Massachusetts',\n",
       "  'year_founded': 1946},\n",
       " {'id': 1610612739,\n",
       "  'full_name': 'Cleveland Cavaliers',\n",
       "  'abbreviation': 'CLE',\n",
       "  'nickname': 'Cavaliers',\n",
       "  'city': 'Cleveland',\n",
       "  'state': 'Ohio',\n",
       "  'year_founded': 1970},\n",
       " {'id': 1610612740,\n",
       "  'full_name': 'New Orleans Pelicans',\n",
       "  'abbreviation': 'NOP',\n",
       "  'nickname': 'Pelicans',\n",
       "  'city': 'New Orleans',\n",
       "  'state': 'Louisiana',\n",
       "  'year_founded': 2002},\n",
       " {'id': 1610612741,\n",
       "  'full_name': 'Chicago Bulls',\n",
       "  'abbreviation': 'CHI',\n",
       "  'nickname': 'Bulls',\n",
       "  'city': 'Chicago',\n",
       "  'state': 'Illinois',\n",
       "  'year_founded': 1966},\n",
       " {'id': 1610612742,\n",
       "  'full_name': 'Dallas Mavericks',\n",
       "  'abbreviation': 'DAL',\n",
       "  'nickname': 'Mavericks',\n",
       "  'city': 'Dallas',\n",
       "  'state': 'Texas',\n",
       "  'year_founded': 1980},\n",
       " {'id': 1610612743,\n",
       "  'full_name': 'Denver Nuggets',\n",
       "  'abbreviation': 'DEN',\n",
       "  'nickname': 'Nuggets',\n",
       "  'city': 'Denver',\n",
       "  'state': 'Colorado',\n",
       "  'year_founded': 1976},\n",
       " {'id': 1610612744,\n",
       "  'full_name': 'Golden State Warriors',\n",
       "  'abbreviation': 'GSW',\n",
       "  'nickname': 'Warriors',\n",
       "  'city': 'Golden State',\n",
       "  'state': 'California',\n",
       "  'year_founded': 1946},\n",
       " {'id': 1610612745,\n",
       "  'full_name': 'Houston Rockets',\n",
       "  'abbreviation': 'HOU',\n",
       "  'nickname': 'Rockets',\n",
       "  'city': 'Houston',\n",
       "  'state': 'Texas',\n",
       "  'year_founded': 1967},\n",
       " {'id': 1610612746,\n",
       "  'full_name': 'Los Angeles Clippers',\n",
       "  'abbreviation': 'LAC',\n",
       "  'nickname': 'Clippers',\n",
       "  'city': 'Los Angeles',\n",
       "  'state': 'California',\n",
       "  'year_founded': 1970},\n",
       " {'id': 1610612747,\n",
       "  'full_name': 'Los Angeles Lakers',\n",
       "  'abbreviation': 'LAL',\n",
       "  'nickname': 'Lakers',\n",
       "  'city': 'Los Angeles',\n",
       "  'state': 'California',\n",
       "  'year_founded': 1948},\n",
       " {'id': 1610612748,\n",
       "  'full_name': 'Miami Heat',\n",
       "  'abbreviation': 'MIA',\n",
       "  'nickname': 'Heat',\n",
       "  'city': 'Miami',\n",
       "  'state': 'Florida',\n",
       "  'year_founded': 1988},\n",
       " {'id': 1610612749,\n",
       "  'full_name': 'Milwaukee Bucks',\n",
       "  'abbreviation': 'MIL',\n",
       "  'nickname': 'Bucks',\n",
       "  'city': 'Milwaukee',\n",
       "  'state': 'Wisconsin',\n",
       "  'year_founded': 1968},\n",
       " {'id': 1610612750,\n",
       "  'full_name': 'Minnesota Timberwolves',\n",
       "  'abbreviation': 'MIN',\n",
       "  'nickname': 'Timberwolves',\n",
       "  'city': 'Minnesota',\n",
       "  'state': 'Minnesota',\n",
       "  'year_founded': 1989},\n",
       " {'id': 1610612751,\n",
       "  'full_name': 'Brooklyn Nets',\n",
       "  'abbreviation': 'BKN',\n",
       "  'nickname': 'Nets',\n",
       "  'city': 'Brooklyn',\n",
       "  'state': 'New York',\n",
       "  'year_founded': 1976},\n",
       " {'id': 1610612752,\n",
       "  'full_name': 'New York Knicks',\n",
       "  'abbreviation': 'NYK',\n",
       "  'nickname': 'Knicks',\n",
       "  'city': 'New York',\n",
       "  'state': 'New York',\n",
       "  'year_founded': 1946},\n",
       " {'id': 1610612753,\n",
       "  'full_name': 'Orlando Magic',\n",
       "  'abbreviation': 'ORL',\n",
       "  'nickname': 'Magic',\n",
       "  'city': 'Orlando',\n",
       "  'state': 'Florida',\n",
       "  'year_founded': 1989},\n",
       " {'id': 1610612754,\n",
       "  'full_name': 'Indiana Pacers',\n",
       "  'abbreviation': 'IND',\n",
       "  'nickname': 'Pacers',\n",
       "  'city': 'Indiana',\n",
       "  'state': 'Indiana',\n",
       "  'year_founded': 1976},\n",
       " {'id': 1610612755,\n",
       "  'full_name': 'Philadelphia 76ers',\n",
       "  'abbreviation': 'PHI',\n",
       "  'nickname': '76ers',\n",
       "  'city': 'Philadelphia',\n",
       "  'state': 'Pennsylvania',\n",
       "  'year_founded': 1949},\n",
       " {'id': 1610612756,\n",
       "  'full_name': 'Phoenix Suns',\n",
       "  'abbreviation': 'PHX',\n",
       "  'nickname': 'Suns',\n",
       "  'city': 'Phoenix',\n",
       "  'state': 'Arizona',\n",
       "  'year_founded': 1968},\n",
       " {'id': 1610612757,\n",
       "  'full_name': 'Portland Trail Blazers',\n",
       "  'abbreviation': 'POR',\n",
       "  'nickname': 'Trail Blazers',\n",
       "  'city': 'Portland',\n",
       "  'state': 'Oregon',\n",
       "  'year_founded': 1970},\n",
       " {'id': 1610612758,\n",
       "  'full_name': 'Sacramento Kings',\n",
       "  'abbreviation': 'SAC',\n",
       "  'nickname': 'Kings',\n",
       "  'city': 'Sacramento',\n",
       "  'state': 'California',\n",
       "  'year_founded': 1948},\n",
       " {'id': 1610612759,\n",
       "  'full_name': 'San Antonio Spurs',\n",
       "  'abbreviation': 'SAS',\n",
       "  'nickname': 'Spurs',\n",
       "  'city': 'San Antonio',\n",
       "  'state': 'Texas',\n",
       "  'year_founded': 1976},\n",
       " {'id': 1610612760,\n",
       "  'full_name': 'Oklahoma City Thunder',\n",
       "  'abbreviation': 'OKC',\n",
       "  'nickname': 'Thunder',\n",
       "  'city': 'Oklahoma City',\n",
       "  'state': 'Oklahoma',\n",
       "  'year_founded': 1967},\n",
       " {'id': 1610612761,\n",
       "  'full_name': 'Toronto Raptors',\n",
       "  'abbreviation': 'TOR',\n",
       "  'nickname': 'Raptors',\n",
       "  'city': 'Toronto',\n",
       "  'state': 'Ontario',\n",
       "  'year_founded': 1995},\n",
       " {'id': 1610612762,\n",
       "  'full_name': 'Utah Jazz',\n",
       "  'abbreviation': 'UTA',\n",
       "  'nickname': 'Jazz',\n",
       "  'city': 'Utah',\n",
       "  'state': 'Utah',\n",
       "  'year_founded': 1974},\n",
       " {'id': 1610612763,\n",
       "  'full_name': 'Memphis Grizzlies',\n",
       "  'abbreviation': 'MEM',\n",
       "  'nickname': 'Grizzlies',\n",
       "  'city': 'Memphis',\n",
       "  'state': 'Tennessee',\n",
       "  'year_founded': 1995},\n",
       " {'id': 1610612764,\n",
       "  'full_name': 'Washington Wizards',\n",
       "  'abbreviation': 'WAS',\n",
       "  'nickname': 'Wizards',\n",
       "  'city': 'Washington',\n",
       "  'state': 'District of Columbia',\n",
       "  'year_founded': 1961},\n",
       " {'id': 1610612765,\n",
       "  'full_name': 'Detroit Pistons',\n",
       "  'abbreviation': 'DET',\n",
       "  'nickname': 'Pistons',\n",
       "  'city': 'Detroit',\n",
       "  'state': 'Michigan',\n",
       "  'year_founded': 1948},\n",
       " {'id': 1610612766,\n",
       "  'full_name': 'Charlotte Hornets',\n",
       "  'abbreviation': 'CHA',\n",
       "  'nickname': 'Hornets',\n",
       "  'city': 'Charlotte',\n",
       "  'state': 'North Carolina',\n",
       "  'year_founded': 1988}]"
      ]
     },
     "execution_count": 27,
     "metadata": {},
     "output_type": "execute_result"
    }
   ],
   "source": [
    "from nba_api.stats.static import teams\n",
    "\n",
    "nba_teams = teams.get_teams()\n",
    "print('Number of teams fetched: {}'.format(len(nba_teams)))\n",
    "nba_teams[:30]"
   ]
  },
  {
   "cell_type": "code",
   "execution_count": 36,
   "id": "eb73a31c",
   "metadata": {},
   "outputs": [],
   "source": [
    "from nba_api.stats.static import teams\n",
    "nba_teams = teams.get_teams()\n",
    "\n",
    "cavs = [team for team in nba_teams if team['abbreviation'] == 'CLE'][0]\n",
    "cavs_id = cavs['id']"
   ]
  },
  {
   "cell_type": "code",
   "execution_count": 37,
   "id": "b6b69fb6",
   "metadata": {
    "scrolled": true
   },
   "outputs": [
    {
     "data": {
      "text/plain": [
       "{'id': 1610612739,\n",
       " 'full_name': 'Cleveland Cavaliers',\n",
       " 'abbreviation': 'CLE',\n",
       " 'nickname': 'Cavaliers',\n",
       " 'city': 'Cleveland',\n",
       " 'state': 'Ohio',\n",
       " 'year_founded': 1970}"
      ]
     },
     "execution_count": 37,
     "metadata": {},
     "output_type": "execute_result"
    }
   ],
   "source": [
    "cavs"
   ]
  },
  {
   "cell_type": "code",
   "execution_count": 42,
   "id": "6bcb6e68",
   "metadata": {},
   "outputs": [],
   "source": [
    "#from nba_api.stats.endpoints import leaguegamefinder\n",
    "from nba_api.stats.library.parameters import SeasonAll\n",
    "\n",
    "cavs_games = leaguegamefinder.LeagueGameFinder(team_id_nullable=cavs_id).get_data_frames()[0]"
   ]
  },
  {
   "cell_type": "code",
   "execution_count": 58,
   "id": "e5886953",
   "metadata": {},
   "outputs": [
    {
     "data": {
      "text/html": [
       "<div>\n",
       "<style scoped>\n",
       "    .dataframe tbody tr th:only-of-type {\n",
       "        vertical-align: middle;\n",
       "    }\n",
       "\n",
       "    .dataframe tbody tr th {\n",
       "        vertical-align: top;\n",
       "    }\n",
       "\n",
       "    .dataframe thead th {\n",
       "        text-align: right;\n",
       "    }\n",
       "</style>\n",
       "<table border=\"1\" class=\"dataframe\">\n",
       "  <thead>\n",
       "    <tr style=\"text-align: right;\">\n",
       "      <th></th>\n",
       "      <th>SEASON_ID</th>\n",
       "      <th>TEAM_ID</th>\n",
       "      <th>TEAM_ABBREVIATION</th>\n",
       "      <th>TEAM_NAME</th>\n",
       "      <th>GAME_ID</th>\n",
       "      <th>GAME_DATE</th>\n",
       "      <th>MATCHUP</th>\n",
       "      <th>WL</th>\n",
       "      <th>MIN</th>\n",
       "      <th>PTS</th>\n",
       "      <th>...</th>\n",
       "      <th>FT_PCT</th>\n",
       "      <th>OREB</th>\n",
       "      <th>DREB</th>\n",
       "      <th>REB</th>\n",
       "      <th>AST</th>\n",
       "      <th>STL</th>\n",
       "      <th>BLK</th>\n",
       "      <th>TOV</th>\n",
       "      <th>PF</th>\n",
       "      <th>PLUS_MINUS</th>\n",
       "    </tr>\n",
       "  </thead>\n",
       "  <tbody>\n",
       "    <tr>\n",
       "      <th>0</th>\n",
       "      <td>22022</td>\n",
       "      <td>1610612739</td>\n",
       "      <td>CLE</td>\n",
       "      <td>Cleveland Cavaliers</td>\n",
       "      <td>0022200312</td>\n",
       "      <td>2022-11-30</td>\n",
       "      <td>CLE vs. PHI</td>\n",
       "      <td>W</td>\n",
       "      <td>240</td>\n",
       "      <td>113</td>\n",
       "      <td>...</td>\n",
       "      <td>0.800</td>\n",
       "      <td>6</td>\n",
       "      <td>34</td>\n",
       "      <td>40</td>\n",
       "      <td>28</td>\n",
       "      <td>10</td>\n",
       "      <td>3</td>\n",
       "      <td>18</td>\n",
       "      <td>13</td>\n",
       "      <td>28.0</td>\n",
       "    </tr>\n",
       "    <tr>\n",
       "      <th>1</th>\n",
       "      <td>22022</td>\n",
       "      <td>1610612739</td>\n",
       "      <td>CLE</td>\n",
       "      <td>Cleveland Cavaliers</td>\n",
       "      <td>0022200303</td>\n",
       "      <td>2022-11-28</td>\n",
       "      <td>CLE @ TOR</td>\n",
       "      <td>L</td>\n",
       "      <td>240</td>\n",
       "      <td>88</td>\n",
       "      <td>...</td>\n",
       "      <td>0.813</td>\n",
       "      <td>13</td>\n",
       "      <td>34</td>\n",
       "      <td>47</td>\n",
       "      <td>21</td>\n",
       "      <td>7</td>\n",
       "      <td>3</td>\n",
       "      <td>9</td>\n",
       "      <td>18</td>\n",
       "      <td>-12.0</td>\n",
       "    </tr>\n",
       "    <tr>\n",
       "      <th>2</th>\n",
       "      <td>22022</td>\n",
       "      <td>1610612739</td>\n",
       "      <td>CLE</td>\n",
       "      <td>Cleveland Cavaliers</td>\n",
       "      <td>0022200295</td>\n",
       "      <td>2022-11-27</td>\n",
       "      <td>CLE @ DET</td>\n",
       "      <td>W</td>\n",
       "      <td>241</td>\n",
       "      <td>102</td>\n",
       "      <td>...</td>\n",
       "      <td>0.848</td>\n",
       "      <td>10</td>\n",
       "      <td>31</td>\n",
       "      <td>41</td>\n",
       "      <td>14</td>\n",
       "      <td>3</td>\n",
       "      <td>4</td>\n",
       "      <td>14</td>\n",
       "      <td>20</td>\n",
       "      <td>8.0</td>\n",
       "    </tr>\n",
       "    <tr>\n",
       "      <th>3</th>\n",
       "      <td>22022</td>\n",
       "      <td>1610612739</td>\n",
       "      <td>CLE</td>\n",
       "      <td>Cleveland Cavaliers</td>\n",
       "      <td>0022200280</td>\n",
       "      <td>2022-11-25</td>\n",
       "      <td>CLE @ MIL</td>\n",
       "      <td>L</td>\n",
       "      <td>239</td>\n",
       "      <td>102</td>\n",
       "      <td>...</td>\n",
       "      <td>0.846</td>\n",
       "      <td>10</td>\n",
       "      <td>31</td>\n",
       "      <td>41</td>\n",
       "      <td>12</td>\n",
       "      <td>9</td>\n",
       "      <td>2</td>\n",
       "      <td>9</td>\n",
       "      <td>17</td>\n",
       "      <td>-15.0</td>\n",
       "    </tr>\n",
       "    <tr>\n",
       "      <th>4</th>\n",
       "      <td>22022</td>\n",
       "      <td>1610612739</td>\n",
       "      <td>CLE</td>\n",
       "      <td>Cleveland Cavaliers</td>\n",
       "      <td>0022200261</td>\n",
       "      <td>2022-11-23</td>\n",
       "      <td>CLE vs. POR</td>\n",
       "      <td>W</td>\n",
       "      <td>241</td>\n",
       "      <td>114</td>\n",
       "      <td>...</td>\n",
       "      <td>0.870</td>\n",
       "      <td>11</td>\n",
       "      <td>28</td>\n",
       "      <td>39</td>\n",
       "      <td>22</td>\n",
       "      <td>4</td>\n",
       "      <td>4</td>\n",
       "      <td>16</td>\n",
       "      <td>14</td>\n",
       "      <td>18.0</td>\n",
       "    </tr>\n",
       "  </tbody>\n",
       "</table>\n",
       "<p>5 rows × 28 columns</p>\n",
       "</div>"
      ],
      "text/plain": [
       "  SEASON_ID     TEAM_ID TEAM_ABBREVIATION            TEAM_NAME     GAME_ID  \\\n",
       "0     22022  1610612739               CLE  Cleveland Cavaliers  0022200312   \n",
       "1     22022  1610612739               CLE  Cleveland Cavaliers  0022200303   \n",
       "2     22022  1610612739               CLE  Cleveland Cavaliers  0022200295   \n",
       "3     22022  1610612739               CLE  Cleveland Cavaliers  0022200280   \n",
       "4     22022  1610612739               CLE  Cleveland Cavaliers  0022200261   \n",
       "\n",
       "    GAME_DATE      MATCHUP WL  MIN  PTS  ...  FT_PCT  OREB  DREB  REB  AST  \\\n",
       "0  2022-11-30  CLE vs. PHI  W  240  113  ...   0.800     6    34   40   28   \n",
       "1  2022-11-28    CLE @ TOR  L  240   88  ...   0.813    13    34   47   21   \n",
       "2  2022-11-27    CLE @ DET  W  241  102  ...   0.848    10    31   41   14   \n",
       "3  2022-11-25    CLE @ MIL  L  239  102  ...   0.846    10    31   41   12   \n",
       "4  2022-11-23  CLE vs. POR  W  241  114  ...   0.870    11    28   39   22   \n",
       "\n",
       "   STL  BLK  TOV  PF  PLUS_MINUS  \n",
       "0   10    3   18  13        28.0  \n",
       "1    7    3    9  18       -12.0  \n",
       "2    3    4   14  20         8.0  \n",
       "3    9    2    9  17       -15.0  \n",
       "4    4    4   16  14        18.0  \n",
       "\n",
       "[5 rows x 28 columns]"
      ]
     },
     "execution_count": 58,
     "metadata": {},
     "output_type": "execute_result"
    }
   ],
   "source": [
    "cavs_games.head()"
   ]
  },
  {
   "cell_type": "code",
   "execution_count": 55,
   "id": "4c3c8ec3",
   "metadata": {},
   "outputs": [
    {
     "data": {
      "text/plain": [
       "DescribeResult(nobs=3549, minmax=(46, 315), mean=240.54747816286277, variance=135.46878521126203, skewness=-5.296854950787475, kurtosis=92.21863025747574)"
      ]
     },
     "execution_count": 55,
     "metadata": {},
     "output_type": "execute_result"
    }
   ],
   "source": [
    "minuts = stats.describe(cavs_games['MIN'])\n",
    "minuts"
   ]
  },
  {
   "cell_type": "code",
   "execution_count": 63,
   "id": "a7dab53b",
   "metadata": {},
   "outputs": [
    {
     "data": {
      "text/plain": [
       "DescribeResult(nobs=3549, minmax=(3, 45), mean=22.552550014088474, variance=33.49815372671153, skewness=0.32425198010570455, kurtosis=0.35549190198340064)"
      ]
     },
     "execution_count": 63,
     "metadata": {},
     "output_type": "execute_result"
    }
   ],
   "source": [
    "ast = stats.describe(cavs_games['AST'])\n",
    "ast"
   ]
  },
  {
   "cell_type": "code",
   "execution_count": 47,
   "id": "61bd8dec",
   "metadata": {
    "scrolled": true
   },
   "outputs": [
    {
     "data": {
      "image/png": "[encoded data removed]",
      "text/plain": [
       "<Figure size 432x288 with 1 Axes>"
      ]
     },
     "metadata": {
      "needs_background": "light"
     },
     "output_type": "display_data"
    }
   ],
   "source": [
    "FT_PCT = cavs_games['REB'].plot.hist()\n",
    "plt.show()"
   ]
  },
  {
   "cell_type": "code",
   "execution_count": 59,
   "id": "73236c59",
   "metadata": {
    "scrolled": true
   },
   "outputs": [
    {
     "data": {
      "image/png": "[encoded data removed]",
      "text/plain": [
       "<Figure size 432x288 with 1 Axes>"
      ]
     },
     "metadata": {
      "needs_background": "light"
     },
     "output_type": "display_data"
    }
   ],
   "source": [
    "Reb = cavs_games['REB'].plot.hist()\n",
    "plt.show()"
   ]
  },
  {
   "cell_type": "code",
   "execution_count": 61,
   "id": "7db5cdf1",
   "metadata": {},
   "outputs": [
    {
     "data": {
      "image/png": "[encoded data removed]",
      "text/plain": [
       "<Figure size 432x288 with 1 Axes>"
      ]
     },
     "metadata": {
      "needs_background": "light"
     },
     "output_type": "display_data"
    }
   ],
   "source": [
    "STL = cavs_games['STL'].plot.hist()\n",
    "plt.show()"
   ]
  },
  {
   "cell_type": "markdown",
   "id": "f44924b0",
   "metadata": {},
   "source": [
    "This is the data set that I will be working with for the final project. I am looking at Cleveland cavalier games from all seasons. I did some simple summaries so I can get the gist of the data set. One thing that I need to figure out is how to look at wins and losses because they are categorized as \"W\" and \"L\". I think that this data set is a good start for this project. I also used the help of https://github.com/swar/nba_api to understand how the NBA API works."
   ]
  }
 ],
 "metadata": {
  "kernelspec": {
   "display_name": "Python 3 (ipykernel)",
   "language": "python",
   "name": "python3"
  },
  "language_info": {
   "codemirror_mode": {
    "name": "ipython",
    "version": 3
   },
   "file_extension": ".py",
   "mimetype": "text/x-python",
   "name": "python",
   "nbconvert_exporter": "python",
   "pygments_lexer": "ipython3",
   "version": "3.10.4"
  }
 },
 "nbformat": 4,
 "nbformat_minor": 5
}
