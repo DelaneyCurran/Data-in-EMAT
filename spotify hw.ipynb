{
 "cells": [
  {
   "cell_type": "markdown",
   "id": "92e4985c",
   "metadata": {},
   "source": [
    "# Off-Facebook Analysis Report (part 2)\n",
    "## Delaney Curran\n",
    "### 11/21/2022"
   ]
  },
  {
   "cell_type": "markdown",
   "id": "95c53715",
   "metadata": {},
   "source": [
    "The two albums I chose to compare were the soundtrack of Black Panther and Black Panther: Wakanda Forever. I chose these two movies because they are some of my favorites and the new Black Panther: Wakanda Forever just came out. I think it would be interesting to see if these movies have similar soundtracks."
   ]
  },
  {
   "cell_type": "code",
   "execution_count": 2,
   "id": "152bae4d",
   "metadata": {},
   "outputs": [],
   "source": [
    "import pandas as pd\n",
    "import json\n",
    "import base64\n",
    "import requests\n",
    "import numpy as np\n",
    "from matplotlib import pyplot as plt\n",
    "from scipy import stats"
   ]
  },
  {
   "cell_type": "code",
   "execution_count": 3,
   "id": "2f2b2a67",
   "metadata": {},
   "outputs": [],
   "source": [
    "keys = pd.read_csv(\"Spotify.txt\", header = 0, sep = \",\")"
   ]
  },
  {
   "cell_type": "code",
   "execution_count": 4,
   "id": "09bc46c0",
   "metadata": {},
   "outputs": [],
   "source": [
    "appid = keys['client_id'][0]"
   ]
  },
  {
   "cell_type": "code",
   "execution_count": 5,
   "id": "1a0f5b74",
   "metadata": {},
   "outputs": [],
   "source": [
    "appsecret = keys['Client_secret'][0]"
   ]
  },
  {
   "cell_type": "code",
   "execution_count": 6,
   "id": "73e680fa",
   "metadata": {},
   "outputs": [],
   "source": [
    "client_cred = base64.b64encode(str(appid + \":\" + appsecret).encode('ascii'))"
   ]
  },
  {
   "cell_type": "code",
   "execution_count": 7,
   "id": "a240024a",
   "metadata": {},
   "outputs": [],
   "source": [
    "header = {'Authorization': 'Basic {}'.format(client_cred.decode('ascii'))}"
   ]
  },
  {
   "cell_type": "code",
   "execution_count": 8,
   "id": "f57b3802",
   "metadata": {},
   "outputs": [],
   "source": [
    "payload = {'grant_type' : 'client_credentials'}\n",
    "access_token_url = \"https://accounts.spotify.com/api/token\""
   ]
  },
  {
   "cell_type": "code",
   "execution_count": 9,
   "id": "0a4aac1a",
   "metadata": {},
   "outputs": [],
   "source": [
    "response = requests.post(access_token_url, headers = header, data = payload)"
   ]
  },
  {
   "cell_type": "code",
   "execution_count": 10,
   "id": "6782d209",
   "metadata": {},
   "outputs": [],
   "source": [
    "session_token = response.json()['access_token']"
   ]
  },
  {
   "cell_type": "code",
   "execution_count": 11,
   "id": "038143fe",
   "metadata": {},
   "outputs": [],
   "source": [
    "session_header = {'Authorization': 'Bearer {}'.format(response.json()['access_token'])}"
   ]
  },
  {
   "cell_type": "code",
   "execution_count": 12,
   "id": "780c6cd9",
   "metadata": {},
   "outputs": [],
   "source": [
    "black_panther2_id = '06RK0wX4GqHcxBtHlVoGH5'"
   ]
  },
  {
   "cell_type": "code",
   "execution_count": 13,
   "id": "2bf76954",
   "metadata": {},
   "outputs": [],
   "source": [
    "album_tracks_endpoint = \"https://api.spotify.com/v1/albums/{}/tracks\".format(black_panther2_id)"
   ]
  },
  {
   "cell_type": "code",
   "execution_count": 14,
   "id": "a631de75",
   "metadata": {},
   "outputs": [],
   "source": [
    "black_panther2_tracks = requests.get(album_tracks_endpoint, headers = session_header)"
   ]
  },
  {
   "cell_type": "code",
   "execution_count": 15,
   "id": "3e90d874",
   "metadata": {},
   "outputs": [
    {
     "data": {
      "text/plain": [
       "200"
      ]
     },
     "execution_count": 15,
     "metadata": {},
     "output_type": "execute_result"
    }
   ],
   "source": [
    "black_panther2_tracks.status_code"
   ]
  },
  {
   "cell_type": "code",
   "execution_count": 16,
   "id": "5bae52c7",
   "metadata": {},
   "outputs": [],
   "source": [
    "black_panther2_dict = json.loads(black_panther2_tracks.text)"
   ]
  },
  {
   "cell_type": "code",
   "execution_count": 17,
   "id": "c5275260",
   "metadata": {},
   "outputs": [
    {
     "data": {
      "text/plain": [
       "dict_keys(['href', 'items', 'limit', 'next', 'offset', 'previous', 'total'])"
      ]
     },
     "execution_count": 17,
     "metadata": {},
     "output_type": "execute_result"
    }
   ],
   "source": [
    "black_panther2_dict.keys()"
   ]
  },
  {
   "cell_type": "code",
   "execution_count": 18,
   "id": "77d70d4c",
   "metadata": {},
   "outputs": [
    {
     "data": {
      "text/plain": [
       "dict_keys(['artists', 'available_markets', 'disc_number', 'duration_ms', 'explicit', 'external_urls', 'href', 'id', 'is_local', 'name', 'preview_url', 'track_number', 'type', 'uri'])"
      ]
     },
     "execution_count": 18,
     "metadata": {},
     "output_type": "execute_result"
    }
   ],
   "source": [
    "black_panther2_dict['items'][0].keys()"
   ]
  },
  {
   "cell_type": "code",
   "execution_count": 19,
   "id": "3dcf4bc4",
   "metadata": {},
   "outputs": [],
   "source": [
    "black_panther2_track_ids = [x['id'] for x in black_panther2_dict['items']]"
   ]
  },
  {
   "cell_type": "code",
   "execution_count": null,
   "id": "da3a6fe6",
   "metadata": {
    "scrolled": true
   },
   "outputs": [],
   "source": [
    "black_panther2_track_ids"
   ]
  },
  {
   "cell_type": "code",
   "execution_count": null,
   "id": "7e1a71b8",
   "metadata": {},
   "outputs": [],
   "source": [
    "black_panther2_track_strings = ','.join(str(x) for x in black_panther2_track_ids)\n",
    "black_panther2_track_strings"
   ]
  },
  {
   "cell_type": "code",
   "execution_count": 22,
   "id": "77456508",
   "metadata": {},
   "outputs": [],
   "source": [
    "track_features_endpoint = \"https://api.spotify.com/v1/audio-features?ids={}\".format(black_panther2_track_strings)"
   ]
  },
  {
   "cell_type": "code",
   "execution_count": 23,
   "id": "859db9de",
   "metadata": {},
   "outputs": [],
   "source": [
    "black_panther2_features = requests.get(track_features_endpoint, headers = session_header)"
   ]
  },
  {
   "cell_type": "code",
   "execution_count": null,
   "id": "f14f0594",
   "metadata": {},
   "outputs": [],
   "source": [
    "black_panther2_features.status_code"
   ]
  },
  {
   "cell_type": "code",
   "execution_count": 25,
   "id": "e726958d",
   "metadata": {},
   "outputs": [],
   "source": [
    "black_panther2_dict = json.loads(black_panther2_features.text)"
   ]
  },
  {
   "cell_type": "code",
   "execution_count": null,
   "id": "d20e8205",
   "metadata": {},
   "outputs": [],
   "source": [
    "black_panther2_dict.keys()"
   ]
  },
  {
   "cell_type": "code",
   "execution_count": null,
   "id": "6e5d19fd",
   "metadata": {},
   "outputs": [],
   "source": [
    "black_panther2_dict['audio_features'][0]"
   ]
  },
  {
   "cell_type": "code",
   "execution_count": 28,
   "id": "94a74a4a",
   "metadata": {},
   "outputs": [],
   "source": [
    "black_panther2_df = pd.DataFrame(black_panther2_dict['audio_features'])"
   ]
  },
  {
   "cell_type": "code",
   "execution_count": null,
   "id": "7a2cff59",
   "metadata": {
    "scrolled": true
   },
   "outputs": [],
   "source": [
    "black_panther2_df"
   ]
  },
  {
   "cell_type": "code",
   "execution_count": null,
   "id": "56801301",
   "metadata": {},
   "outputs": [],
   "source": [
    "black_panther1_id = '3pLdWdkj83EYfDN6H2N8MR'\n",
    "album_tracks_endpoint = \"https://api.spotify.com/v1/albums/{}/tracks\".format(black_panther1_id)\n",
    "black_panther1_tracks = requests.get(album_tracks_endpoint, headers = session_header)\n",
    "print(black_panther1_tracks.status_code)\n",
    "black_panther1_dict = json.loads(black_panther1_tracks.text)\n",
    "black_panther1_track_ids = [x['id'] for x in black_panther1_dict['items']]\n",
    "black_panther1_track_strings = ','.join(str(x) for x in black_panther1_track_ids)\n",
    "print(black_panther1_track_strings)\n",
    "track_features_endpoint = \"https://api.spotify.com/v1/audio-features?ids={}\".format(black_panther1_track_strings)"
   ]
  },
  {
   "cell_type": "code",
   "execution_count": 31,
   "id": "b69f8744",
   "metadata": {},
   "outputs": [
    {
     "data": {
      "text/plain": [
       "200"
      ]
     },
     "execution_count": 31,
     "metadata": {},
     "output_type": "execute_result"
    }
   ],
   "source": [
    "black_panther1_features = requests.get(track_features_endpoint, headers = session_header)\n",
    "black_panther1_features.status_code"
   ]
  },
  {
   "cell_type": "code",
   "execution_count": null,
   "id": "5ee328c3",
   "metadata": {},
   "outputs": [],
   "source": [
    "black_panther1_dict = json.loads(black_panther1_features.text)\n",
    "black_panther1_dict['audio_features'][0]"
   ]
  },
  {
   "cell_type": "code",
   "execution_count": null,
   "id": "94036836",
   "metadata": {},
   "outputs": [],
   "source": [
    "black_panther1_df = pd.DataFrame(black_panther1_dict['audio_features'])"
   ]
  },
  {
   "cell_type": "code",
   "execution_count": null,
   "id": "b5c8f7d5",
   "metadata": {
    "scrolled": true
   },
   "outputs": [],
   "source": [
    "black_panther1_df"
   ]
  },
  {
   "cell_type": "code",
   "execution_count": 36,
   "id": "304dce24",
   "metadata": {},
   "outputs": [],
   "source": [
    "black_panther2_df['album'] = ['black_panther2'] * len(black_panther2_df.index)"
   ]
  },
  {
   "cell_type": "code",
   "execution_count": 37,
   "id": "7132a16a",
   "metadata": {},
   "outputs": [],
   "source": [
    "black_panther1_df['album'] = ['black_panther1'] * len(black_panther1_df.index)"
   ]
  },
  {
   "cell_type": "code",
   "execution_count": 38,
   "id": "e58734af",
   "metadata": {},
   "outputs": [],
   "source": [
    "audio_features = pd.concat([black_panther2_df, black_panther1_df])"
   ]
  },
  {
   "cell_type": "code",
   "execution_count": 39,
   "id": "676feb8a",
   "metadata": {},
   "outputs": [],
   "source": [
    "audio_features.to_csv('audio_features_bp.csv')"
   ]
  },
  {
   "cell_type": "code",
   "execution_count": 40,
   "id": "cce3d1e3",
   "metadata": {},
   "outputs": [],
   "source": [
    "audio = pd.read_csv('audio_features_bp.csv', sep = ',')"
   ]
  },
  {
   "cell_type": "code",
   "execution_count": null,
   "id": "0437546e",
   "metadata": {},
   "outputs": [],
   "source": [
    "audio"
   ]
  },
  {
   "cell_type": "markdown",
   "id": "3c86d449",
   "metadata": {},
   "source": [
    "I chose to compare energy and speechiness for these albums. I chose these categories because it is a Soundtrack for a action movie. I think it would be interesting to see if a movie soundtrack has high or low speechiness. I chose energy because these are action movies with intense scenes so I would guess that the energy is high."
   ]
  },
  {
   "cell_type": "code",
   "execution_count": null,
   "id": "3d93a0e7",
   "metadata": {},
   "outputs": [],
   "source": [
    "audio[audio['album'] == 'black_panther2']['energy']"
   ]
  },
  {
   "cell_type": "code",
   "execution_count": 61,
   "id": "b2b492c4",
   "metadata": {
    "scrolled": true
   },
   "outputs": [
    {
     "data": {
      "image/png": "[encoded data removed]",
      "text/plain": [
       "<Figure size 432x288 with 1 Axes>"
      ]
     },
     "metadata": {
      "needs_background": "light"
     },
     "output_type": "display_data"
    }
   ],
   "source": [
    "fig5, ax5 = plt.subplots()\n",
    "\n",
    "\n",
    "bp1 = audio[audio['album'] == 'black_panther1']['energy']\n",
    "bp2= audio[audio['album'] == 'black_panther2']['energy']\n",
    "ax5.hist(bp1, alpha = 0.5, color = 'red', label = 'Black Panther')\n",
    "ax5.hist(bp2, alpha = 0.5, color = 'green', label = 'Wakanda Forever')\n",
    "ax5.legend()\n",
    "plt.show()"
   ]
  },
  {
   "cell_type": "markdown",
   "id": "aace06e4",
   "metadata": {},
   "source": [
    "From this chart we can see that energy is very spread out. There are a few songs with very high energy and a few songs with very low energy."
   ]
  },
  {
   "cell_type": "code",
   "execution_count": 50,
   "id": "f427e537",
   "metadata": {
    "scrolled": true
   },
   "outputs": [
    {
     "data": {
      "image/png": "[encoded data removed]",
      "text/plain": [
       "<Figure size 432x288 with 1 Axes>"
      ]
     },
     "metadata": {
      "needs_background": "light"
     },
     "output_type": "display_data"
    }
   ],
   "source": [
    "fig1, ax1 = plt.subplots()\n",
    "bp1 = audio[audio['album'] == 'black_panther1']\n",
    "ax1.scatter(bp1['energy'], bp1['speechiness'], label = 'Black Panther', color = 'green')\n",
    "ax1.set_xlabel('energy')\n",
    "ax1.set_ylabel('speechiness')\n",
    "ax1.set_title('Relationship between energy and speechiness')\n",
    "ax1.legend()\n",
    "plt.show()"
   ]
  },
  {
   "cell_type": "markdown",
   "id": "46964a01",
   "metadata": {},
   "source": [
    "Based on this scatterplot we can see the relationship between energy and speechiness. As we can see from this scatterplot the speechiness Is fairly low across the board. We can also see that there is almost no correlation between energy and speechiness."
   ]
  },
  {
   "cell_type": "code",
   "execution_count": 55,
   "id": "b2de05ea",
   "metadata": {
    "scrolled": true
   },
   "outputs": [
    {
     "data": {
      "image/png": "[encoded data removed]",
      "text/plain": [
       "<Figure size 432x288 with 1 Axes>"
      ]
     },
     "metadata": {
      "needs_background": "light"
     },
     "output_type": "display_data"
    }
   ],
   "source": [
    "fig2, ax2 = plt.subplots()\n",
    "bp2 = audio[audio['album'] == 'black_panther2']\n",
    "ax2.scatter(bp2['energy'], bp2['speechiness'], label = 'Black Panther: Wakanda Forever', color = 'blue')\n",
    "ax2.set_xlabel('energy')\n",
    "ax2.set_ylabel('speechiness')\n",
    "ax2.set_title('Relationship between energy and speechiness')\n",
    "ax2.legend()\n",
    "plt.show()"
   ]
  },
  {
   "cell_type": "markdown",
   "id": "01186f23",
   "metadata": {},
   "source": [
    "In this scatterplot for Black Panther: Wakanda forever I we can see that once again there is almost no correlation between speechiness And energy. However there is one song on the soundtrack that has very high speechiness."
   ]
  },
  {
   "cell_type": "code",
   "execution_count": 56,
   "id": "d9b9fc43",
   "metadata": {
    "scrolled": true
   },
   "outputs": [
    {
     "data": {
      "image/png": "[encoded data removed]",
      "text/plain": [
       "<Figure size 432x288 with 1 Axes>"
      ]
     },
     "metadata": {
      "needs_background": "light"
     },
     "output_type": "display_data"
    }
   ],
   "source": [
    "fig3, ax3 = plt.subplots()\n",
    "bp1 = audio[audio['album'] == 'black_panther1']\n",
    "bp2 = audio[audio['album'] == 'black_panther2']\n",
    "ax3.scatter(bp1['energy'], bp1['speechiness'], label = 'Black Panther', color = 'green')\n",
    "ax3.scatter(bp2['energy'], bp2['speechiness'], label = 'Wakanda Forever', color = 'blue')\n",
    "ax3.set_xlabel('energy')\n",
    "ax3.set_ylabel('speechiness')\n",
    "ax3.set_title('Relationship between energy and speechiness')\n",
    "ax3.legend()\n",
    "plt.show()"
   ]
  },
  {
   "cell_type": "markdown",
   "id": "7c2990cf",
   "metadata": {},
   "source": [
    "In this scatterplot there is More of a correlation than the other two. However this correlation is still very low but is slightly positive."
   ]
  },
  {
   "cell_type": "code",
   "execution_count": 59,
   "id": "2b4e2efc",
   "metadata": {
    "scrolled": true
   },
   "outputs": [
    {
     "data": {
      "image/png": "[encoded data removed]",
      "text/plain": [
       "<Figure size 432x288 with 1 Axes>"
      ]
     },
     "metadata": {
      "needs_background": "light"
     },
     "output_type": "display_data"
    }
   ],
   "source": [
    "fig4, ax4 = plt.subplots()\n",
    "bp1_eng = audio[audio['album'] == 'black_panther1']['energy']\n",
    "bp2_eng = audio[audio['album'] == 'black_panther2']['energy']\n",
    "bp1_x = [1] * len(bp1_eng)\n",
    "bp2_x = [2] * len(bp2_eng)\n",
    "bp1_x_jitter = np.random.uniform(-0.10, .10, len(bp1_x))\n",
    "bp2_x_jitter = np.random.uniform(-0.10, .10, len(bp2_x))\n",
    "\n",
    "ax4.scatter(bp1_x + bp1_x_jitter, bp1_eng, alpha = 0.4, s = 25)\n",
    "ax4.scatter(bp2_x + bp2_x_jitter, bp2_eng, alpha = 0.4, s = 25)\n",
    "ax4.set_xlim(.5, 2.5)\n",
    "#fig4.set_figheight(10)\n",
    "ax4.boxplot([bp1_eng, bp2_eng])\n",
    "ax4.set_xticks([1,2], ['Black Panther', 'Wakanda Forever'])\n",
    "plt.show()"
   ]
  },
  {
   "cell_type": "markdown",
   "id": "923debd6",
   "metadata": {},
   "source": [
    "In this box plot we can see that the energy for the first black panther is in a lot smaller range while Black Panther: Wakanda forever spreads across the whole range. We can conclude from this box plot that I the first black panther has a lot more similar energy songs while Black Panther Wakanda forever has songs from a wide range of energy. "
   ]
  },
  {
   "cell_type": "code",
   "execution_count": 60,
   "id": "7f80dbbe",
   "metadata": {},
   "outputs": [
    {
     "data": {
      "text/plain": [
       "Ttest_indResult(statistic=10.649590613005946, pvalue=5.67784988421502e-16)"
      ]
     },
     "execution_count": 60,
     "metadata": {},
     "output_type": "execute_result"
    }
   ],
   "source": [
    "stats.ttest_ind(audio['energy'], audio['speechiness'] )"
   ]
  },
  {
   "cell_type": "markdown",
   "id": "6dc285a1",
   "metadata": {},
   "source": [
    "We can see that the P value is 5.67784988421502e-16 meaning that this is satistically significant. "
   ]
  }
 ],
 "metadata": {
  "kernelspec": {
   "display_name": "Python 3 (ipykernel)",
   "language": "python",
   "name": "python3"
  },
  "language_info": {
   "codemirror_mode": {
    "name": "ipython",
    "version": 3
   },
   "file_extension": ".py",
   "mimetype": "text/x-python",
   "name": "python",
   "nbconvert_exporter": "python",
   "pygments_lexer": "ipython3",
   "version": "3.10.4"
  }
 },
 "nbformat": 4,
 "nbformat_minor": 5
}
