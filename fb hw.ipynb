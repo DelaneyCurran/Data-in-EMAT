{
 "cells": [
  {
   "cell_type": "markdown",
   "id": "5da3880c",
   "metadata": {},
   "source": [
    "# Off-Facebook Analysis Report (part 1)\n",
    "## Delaney Curran\n",
    "### 11/21/2022"
   ]
  },
  {
   "cell_type": "markdown",
   "id": "93328368",
   "metadata": {},
   "source": [
    "The apps and websites I expect to be present in this data are  related to clothing or skin care. I know that these are the types of websites I often am attracted to. However I do not often use Facebook and my Facebook has been hacked before. So, these are two factors that may skew my results."
   ]
  },
  {
   "cell_type": "code",
   "execution_count": 2,
   "id": "4f73ba69",
   "metadata": {},
   "outputs": [],
   "source": [
    "import pandas as pd\n",
    "import numpy as np\n",
    "import json\n",
    "from matplotlib import pyplot as plt\n",
    "from scipy import stats"
   ]
  },
  {
   "cell_type": "code",
   "execution_count": 3,
   "id": "840ef25b",
   "metadata": {},
   "outputs": [],
   "source": [
    "with open (r\"/Users/delaneycurran/Desktop/Business analytics II/EMAT/facebook-delaneycurran3/apps_and_websites_off_of_facebook/your_off-facebook_activity.json\")as j:\n",
    "    off_fb_data = json.load(j)"
   ]
  },
  {
   "cell_type": "code",
   "execution_count": null,
   "id": "0d5ed370",
   "metadata": {
    "scrolled": false
   },
   "outputs": [],
   "source": [
    "off_fb_data"
   ]
  },
  {
   "cell_type": "code",
   "execution_count": 5,
   "id": "2e61a319",
   "metadata": {},
   "outputs": [],
   "source": [
    "df = pd.DataFrame(off_fb_data['off_facebook_activity_v2'])"
   ]
  },
  {
   "cell_type": "code",
   "execution_count": null,
   "id": "752e29ef",
   "metadata": {
    "scrolled": true
   },
   "outputs": [],
   "source": [
    "df"
   ]
  },
  {
   "cell_type": "code",
   "execution_count": 7,
   "id": "122ad9a2",
   "metadata": {},
   "outputs": [
    {
     "data": {
      "text/plain": [
       "4"
      ]
     },
     "execution_count": 7,
     "metadata": {},
     "output_type": "execute_result"
    }
   ],
   "source": [
    "len(df['events'][0])"
   ]
  },
  {
   "cell_type": "code",
   "execution_count": 8,
   "id": "4edf8c90",
   "metadata": {},
   "outputs": [],
   "source": [
    "events = [len(x) for x in df ['events']]"
   ]
  },
  {
   "cell_type": "code",
   "execution_count": null,
   "id": "b5cd9681",
   "metadata": {
    "scrolled": true
   },
   "outputs": [],
   "source": [
    "events"
   ]
  },
  {
   "cell_type": "code",
   "execution_count": 10,
   "id": "b61b407f",
   "metadata": {},
   "outputs": [],
   "source": [
    "df['new_name'] = events"
   ]
  },
  {
   "cell_type": "code",
   "execution_count": null,
   "id": "2f55f0f8",
   "metadata": {
    "scrolled": false
   },
   "outputs": [],
   "source": [
    "df"
   ]
  },
  {
   "cell_type": "code",
   "execution_count": null,
   "id": "7f5e8597",
   "metadata": {
    "scrolled": false
   },
   "outputs": [],
   "source": [
    "df.sort_values('new_name',ascending=False)"
   ]
  },
  {
   "cell_type": "code",
   "execution_count": null,
   "id": "4923a81f",
   "metadata": {
    "scrolled": false
   },
   "outputs": [],
   "source": [
    "test1 = df.sort_values('new_name', ascending = False).head(20)\n",
    "test1"
   ]
  },
  {
   "cell_type": "code",
   "execution_count": 14,
   "id": "dd9f846f",
   "metadata": {
    "scrolled": true
   },
   "outputs": [
    {
     "data": {
      "image/png": "[encoded data removed]",
      "text/plain": [
       "<Figure size 432x288 with 1 Axes>"
      ]
     },
     "metadata": {
      "needs_background": "light"
     },
     "output_type": "display_data"
    }
   ],
   "source": [
    "fig1, ax1 = plt.subplots()\n",
    "ax1.hist(df['new_name'])\n",
    "ax1.set_ylabel('Events')\n",
    "ax1.set_xlabel('Frequency')\n",
    "plt.show()"
   ]
  },
  {
   "cell_type": "markdown",
   "id": "a586cb5c",
   "metadata": {},
   "source": [
    "Based on this histogram we can conclude that I have visited a lot of apps and websites only one time. This is by far the highest number in the data set. I have not visited most apps or websites more than one time. I think you can conclude that I do not click on websites if I have previously visited it."
   ]
  },
  {
   "cell_type": "code",
   "execution_count": 15,
   "id": "b1a901ba",
   "metadata": {},
   "outputs": [
    {
     "data": {
      "image/png": "[encoded data removed]",
      "text/plain": [
       "<Figure size 432x288 with 1 Axes>"
      ]
     },
     "metadata": {
      "needs_background": "light"
     },
     "output_type": "display_data"
    }
   ],
   "source": [
    "fig1, ax1 = plt.subplots()\n",
    "ax1.hist(test1['new_name'])\n",
    "ax1.set_ylabel('Events')\n",
    "ax1.set_xlabel('Frequency')\n",
    "plt.show()"
   ]
  },
  {
   "cell_type": "markdown",
   "id": "c96507b9",
   "metadata": {},
   "source": [
    "Based on this graph I can conclude that I still do not visit apps or websites very often. The highest number is 14 which I think is still fairly low. Once again I think you can conclude that I do not visit apps or websites very often from Facebook. \n",
    " based on the apps and websites I have visited I think that Facebook would conclude that I enjoy online shopping. For my top 20 websites majority of them are related to shopping. I believe that this is an accurate conclusion because online shopping is something that I enjoy to do."
   ]
  }
 ],
 "metadata": {
  "kernelspec": {
   "display_name": "Python 3 (ipykernel)",
   "language": "python",
   "name": "python3"
  },
  "language_info": {
   "codemirror_mode": {
    "name": "ipython",
    "version": 3
   },
   "file_extension": ".py",
   "mimetype": "text/x-python",
   "name": "python",
   "nbconvert_exporter": "python",
   "pygments_lexer": "ipython3",
   "version": "3.10.4"
  }
 },
 "nbformat": 4,
 "nbformat_minor": 5
}
