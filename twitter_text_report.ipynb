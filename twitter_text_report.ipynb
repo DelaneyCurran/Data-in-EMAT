{
 "cells": [
  {
   "cell_type": "markdown",
   "id": "933b4a5d",
   "metadata": {},
   "source": [
    "# Twitter text report\n",
    "## Delaney Curran\n",
    "### 10/19/2022"
   ]
  },
  {
   "attachments": {
    "Taylor-Swift-Midnights.webp": {
     "image/webp": "[encoded data removed]"
    }
   },
   "cell_type": "markdown",
   "id": "c22ab2c4",
   "metadata": {},
   "source": [
    "![Taylor-Swift-Midnights.webp](attachment:Taylor-Swift-Midnights.webp)"
   ]
  },
  {
   "cell_type": "markdown",
   "id": "113d28d6",
   "metadata": {},
   "source": [
    "The question I am trying to answer is if there is one song from Taylor Swifts new album that is talked about more then any other. what conversation is souring that song? Is it good or bad?"
   ]
  },
  {
   "cell_type": "code",
   "execution_count": 74,
   "id": "d2e27473",
   "metadata": {},
   "outputs": [],
   "source": [
    "import pandas as pd\n",
    "import json\n",
    "import requests\n",
    "import urllib"
   ]
  },
  {
   "cell_type": "code",
   "execution_count": 75,
   "id": "6f9da39f",
   "metadata": {},
   "outputs": [],
   "source": [
    "bearer_token = pd.read_csv (\"Twitter_token_sept_22.txt\", header = 0, sep = '\\t')"
   ]
  },
  {
   "cell_type": "code",
   "execution_count": null,
   "id": "6f8cd071",
   "metadata": {},
   "outputs": [],
   "source": [
    "bearer_token['Bearer_Token'].iloc[0]"
   ]
  },
  {
   "cell_type": "code",
   "execution_count": 77,
   "id": "4b0f003c",
   "metadata": {},
   "outputs": [],
   "source": [
    "headers = {'Authorization':'Bearer {}'.format(bearer_token['Bearer_Token'].iloc[0])}"
   ]
  },
  {
   "cell_type": "code",
   "execution_count": 78,
   "id": "f33dbcbe",
   "metadata": {},
   "outputs": [],
   "source": [
    "endpoint = 'https://api.twitter.com/2/tweets/search/recent'"
   ]
  },
  {
   "cell_type": "markdown",
   "id": "60223ad0",
   "metadata": {},
   "source": [
    "The query I made is very broad so I would not be biased towards one song. I am talking about the album as a whole. I want to see the whole conversation about the album."
   ]
  },
  {
   "cell_type": "code",
   "execution_count": 79,
   "id": "b99eca16",
   "metadata": {},
   "outputs": [],
   "source": [
    "query_param = urllib.parse.quote('(\"Taylor Swift\" OR midnights OR #TSMidnighTS OR #CountdownTo MidnightTS) lang:en')                      "
   ]
  },
  {
   "cell_type": "markdown",
   "id": "866c5d9e",
   "metadata": {},
   "source": [
    "These are the field I am using to gather data from Twitter."
   ]
  },
  {
   "cell_type": "code",
   "execution_count": 80,
   "id": "6ae42d6f",
   "metadata": {},
   "outputs": [],
   "source": [
    "tweet_field = 'lang,public_metrics,author_id,created_at'"
   ]
  },
  {
   "cell_type": "code",
   "execution_count": 81,
   "id": "dabf0d77",
   "metadata": {},
   "outputs": [],
   "source": [
    "user_field = 'username,verified'"
   ]
  },
  {
   "cell_type": "code",
   "execution_count": 82,
   "id": "e2a91fc6",
   "metadata": {},
   "outputs": [],
   "source": [
    "expansions = 'entities.mentions.username'"
   ]
  },
  {
   "cell_type": "code",
   "execution_count": 83,
   "id": "7b57293a",
   "metadata": {},
   "outputs": [
    {
     "data": {
      "text/plain": [
       "'%28%22Taylor%20Swift%22%20OR%20midnights%20OR%20%23TSMidnighTS%20OR%20%23CountdownTo%20MidnightTS%29%20lang%3Aen'"
      ]
     },
     "execution_count": 83,
     "metadata": {},
     "output_type": "execute_result"
    }
   ],
   "source": [
    "query_param"
   ]
  },
  {
   "cell_type": "code",
   "execution_count": 84,
   "id": "4c74edda",
   "metadata": {},
   "outputs": [
    {
     "data": {
      "text/plain": [
       "'lang,public_metrics,author_id,created_at'"
      ]
     },
     "execution_count": 84,
     "metadata": {},
     "output_type": "execute_result"
    }
   ],
   "source": [
    "tweet_field"
   ]
  },
  {
   "cell_type": "code",
   "execution_count": 85,
   "id": "f5af86ae",
   "metadata": {},
   "outputs": [
    {
     "data": {
      "text/plain": [
       "'username,verified'"
      ]
     },
     "execution_count": 85,
     "metadata": {},
     "output_type": "execute_result"
    }
   ],
   "source": [
    "user_field"
   ]
  },
  {
   "cell_type": "markdown",
   "id": "8942ff63",
   "metadata": {},
   "source": [
    "In the next line of code I made my max response 100 so that I am about to have 100 tweets every time the query is run. "
   ]
  },
  {
   "cell_type": "code",
   "execution_count": 86,
   "id": "66e86d38",
   "metadata": {},
   "outputs": [],
   "source": [
    "search_url = endpoint + '?query={}&tweet.fields={}&user.fields={}&expansions={}&max_results=100'.format(query_param, tweet_field, user_field, expansions)\n"
   ]
  },
  {
   "cell_type": "code",
   "execution_count": 87,
   "id": "1d881c34",
   "metadata": {},
   "outputs": [
    {
     "data": {
      "text/plain": [
       "'https://api.twitter.com/2/tweets/search/recent?query=%28%22Taylor%20Swift%22%20OR%20midnights%20OR%20%23TSMidnighTS%20OR%20%23CountdownTo%20MidnightTS%29%20lang%3Aen&tweet.fields=lang,public_metrics,author_id,created_at&user.fields=username,verified&expansions=entities.mentions.username&max_results=100'"
      ]
     },
     "execution_count": 87,
     "metadata": {},
     "output_type": "execute_result"
    }
   ],
   "source": [
    "search_url"
   ]
  },
  {
   "cell_type": "code",
   "execution_count": 88,
   "id": "8af17cd3",
   "metadata": {},
   "outputs": [],
   "source": [
    "response = requests.get(search_url, headers = headers)"
   ]
  },
  {
   "cell_type": "code",
   "execution_count": 89,
   "id": "228238fd",
   "metadata": {
    "scrolled": true
   },
   "outputs": [
    {
     "data": {
      "text/plain": [
       "<Response [200]>"
      ]
     },
     "execution_count": 89,
     "metadata": {},
     "output_type": "execute_result"
    }
   ],
   "source": [
    "response"
   ]
  },
  {
   "cell_type": "markdown",
   "id": "422d4112",
   "metadata": {},
   "source": [
    "This is the first 100 responses that I from my query. Now I need to make this into something that makes sense."
   ]
  },
  {
   "cell_type": "code",
   "execution_count": null,
   "id": "c75491d4",
   "metadata": {
    "scrolled": false
   },
   "outputs": [],
   "source": [
    "response.text"
   ]
  },
  {
   "cell_type": "markdown",
   "id": "ac4ce4ca",
   "metadata": {},
   "source": [
    "I am making sense of the response.text and dividing it into sensible data."
   ]
  },
  {
   "cell_type": "code",
   "execution_count": 91,
   "id": "5cc4c311",
   "metadata": {},
   "outputs": [],
   "source": [
    "response_dict = json.loads(response.text)"
   ]
  },
  {
   "cell_type": "code",
   "execution_count": 92,
   "id": "69b7d876",
   "metadata": {},
   "outputs": [
    {
     "data": {
      "text/plain": [
       "dict_keys(['data', 'includes', 'errors', 'meta'])"
      ]
     },
     "execution_count": 92,
     "metadata": {},
     "output_type": "execute_result"
    }
   ],
   "source": [
    "response_dict.keys()"
   ]
  },
  {
   "cell_type": "code",
   "execution_count": 93,
   "id": "9833b533",
   "metadata": {},
   "outputs": [
    {
     "data": {
      "text/plain": [
       "list"
      ]
     },
     "execution_count": 93,
     "metadata": {},
     "output_type": "execute_result"
    }
   ],
   "source": [
    "type(response_dict['data'])"
   ]
  },
  {
   "cell_type": "code",
   "execution_count": 94,
   "id": "c8529c12",
   "metadata": {},
   "outputs": [
    {
     "data": {
      "text/plain": [
       "dict"
      ]
     },
     "execution_count": 94,
     "metadata": {},
     "output_type": "execute_result"
    }
   ],
   "source": [
    "type(response_dict['data'][0])"
   ]
  },
  {
   "cell_type": "code",
   "execution_count": null,
   "id": "3e17ca99",
   "metadata": {
    "scrolled": true
   },
   "outputs": [],
   "source": [
    "response_dict['data']"
   ]
  },
  {
   "cell_type": "markdown",
   "id": "75284e2b",
   "metadata": {},
   "source": [
    "This next chunk of code is used for separating the 'data' into a table."
   ]
  },
  {
   "cell_type": "code",
   "execution_count": 96,
   "id": "65cdb749",
   "metadata": {},
   "outputs": [
    {
     "data": {
      "text/plain": [
       "dict_keys(['entities', 'author_id', 'text', 'id', 'public_metrics', 'created_at', 'edit_history_tweet_ids', 'lang'])"
      ]
     },
     "execution_count": 96,
     "metadata": {},
     "output_type": "execute_result"
    }
   ],
   "source": [
    "response_dict['data'][0].keys()"
   ]
  },
  {
   "cell_type": "code",
   "execution_count": 97,
   "id": "947c1d86",
   "metadata": {},
   "outputs": [
    {
     "data": {
      "text/plain": [
       "'RT @taylorr_media: Taylor Swift - Maroon https://t.co/BQc86vHd2Y'"
      ]
     },
     "execution_count": 97,
     "metadata": {},
     "output_type": "execute_result"
    }
   ],
   "source": [
    "response_dict['data'][0]['text']"
   ]
  },
  {
   "cell_type": "code",
   "execution_count": 98,
   "id": "803d4c61",
   "metadata": {},
   "outputs": [
    {
     "data": {
      "text/plain": [
       "'1584963012389376000'"
      ]
     },
     "execution_count": 98,
     "metadata": {},
     "output_type": "execute_result"
    }
   ],
   "source": [
    "response_dict['data'][4]['id']"
   ]
  },
  {
   "cell_type": "code",
   "execution_count": 99,
   "id": "105b9dba",
   "metadata": {},
   "outputs": [
    {
     "data": {
      "text/plain": [
       "dict_keys(['retweet_count', 'reply_count', 'like_count', 'quote_count'])"
      ]
     },
     "execution_count": 99,
     "metadata": {},
     "output_type": "execute_result"
    }
   ],
   "source": [
    "response_dict['data'][0]['public_metrics'].keys()"
   ]
  },
  {
   "cell_type": "code",
   "execution_count": 100,
   "id": "3429d088",
   "metadata": {},
   "outputs": [],
   "source": [
    "response_df = pd.DataFrame(response_dict['data'])\n",
    "response_df2 = response_df"
   ]
  },
  {
   "cell_type": "code",
   "execution_count": 101,
   "id": "75e344d6",
   "metadata": {},
   "outputs": [
    {
     "data": {
      "text/html": [
       "<div>\n",
       "<style scoped>\n",
       "    .dataframe tbody tr th:only-of-type {\n",
       "        vertical-align: middle;\n",
       "    }\n",
       "\n",
       "    .dataframe tbody tr th {\n",
       "        vertical-align: top;\n",
       "    }\n",
       "\n",
       "    .dataframe thead th {\n",
       "        text-align: right;\n",
       "    }\n",
       "</style>\n",
       "<table border=\"1\" class=\"dataframe\">\n",
       "  <thead>\n",
       "    <tr style=\"text-align: right;\">\n",
       "      <th></th>\n",
       "      <th>entities</th>\n",
       "      <th>author_id</th>\n",
       "      <th>text</th>\n",
       "      <th>id</th>\n",
       "      <th>public_metrics</th>\n",
       "      <th>created_at</th>\n",
       "      <th>edit_history_tweet_ids</th>\n",
       "      <th>lang</th>\n",
       "    </tr>\n",
       "  </thead>\n",
       "  <tbody>\n",
       "    <tr>\n",
       "      <th>0</th>\n",
       "      <td>{'mentions': [{'start': 3, 'end': 17, 'usernam...</td>\n",
       "      <td>280135897</td>\n",
       "      <td>RT @taylorr_media: Taylor Swift - Maroon https...</td>\n",
       "      <td>1584963020244992000</td>\n",
       "      <td>{'retweet_count': 1595, 'reply_count': 0, 'lik...</td>\n",
       "      <td>2022-10-25T17:40:05.000Z</td>\n",
       "      <td>[1584963020244992000]</td>\n",
       "      <td>en</td>\n",
       "    </tr>\n",
       "    <tr>\n",
       "      <th>1</th>\n",
       "      <td>{'mentions': [{'start': 3, 'end': 15, 'usernam...</td>\n",
       "      <td>1322798064327823360</td>\n",
       "      <td>RT @TChartSwift: “Midnights” has reached 110 #...</td>\n",
       "      <td>1584963018299150338</td>\n",
       "      <td>{'retweet_count': 358, 'reply_count': 0, 'like...</td>\n",
       "      <td>2022-10-25T17:40:05.000Z</td>\n",
       "      <td>[1584963018299150338]</td>\n",
       "      <td>en</td>\n",
       "    </tr>\n",
       "    <tr>\n",
       "      <th>2</th>\n",
       "      <td>NaN</td>\n",
       "      <td>570222924</td>\n",
       "      <td>I really want to buy the midnights vinyl due t...</td>\n",
       "      <td>1584963017191862272</td>\n",
       "      <td>{'retweet_count': 0, 'reply_count': 0, 'like_c...</td>\n",
       "      <td>2022-10-25T17:40:05.000Z</td>\n",
       "      <td>[1584963017191862272]</td>\n",
       "      <td>en</td>\n",
       "    </tr>\n",
       "    <tr>\n",
       "      <th>3</th>\n",
       "      <td>{'mentions': [{'start': 3, 'end': 11, 'usernam...</td>\n",
       "      <td>2688702500</td>\n",
       "      <td>RT @TheWrap: The hosts of #TheView will not st...</td>\n",
       "      <td>1584963015774208007</td>\n",
       "      <td>{'retweet_count': 50, 'reply_count': 0, 'like_...</td>\n",
       "      <td>2022-10-25T17:40:04.000Z</td>\n",
       "      <td>[1584963015774208007]</td>\n",
       "      <td>en</td>\n",
       "    </tr>\n",
       "    <tr>\n",
       "      <th>4</th>\n",
       "      <td>{'mentions': [{'start': 3, 'end': 16, 'usernam...</td>\n",
       "      <td>1456423934103019522</td>\n",
       "      <td>RT @cham_swiftie: 💎GIVEAWAY💎I’m giving away on...</td>\n",
       "      <td>1584963012389376000</td>\n",
       "      <td>{'retweet_count': 393, 'reply_count': 0, 'like...</td>\n",
       "      <td>2022-10-25T17:40:03.000Z</td>\n",
       "      <td>[1584963012389376000]</td>\n",
       "      <td>en</td>\n",
       "    </tr>\n",
       "  </tbody>\n",
       "</table>\n",
       "</div>"
      ],
      "text/plain": [
       "                                            entities            author_id  \\\n",
       "0  {'mentions': [{'start': 3, 'end': 17, 'usernam...            280135897   \n",
       "1  {'mentions': [{'start': 3, 'end': 15, 'usernam...  1322798064327823360   \n",
       "2                                                NaN            570222924   \n",
       "3  {'mentions': [{'start': 3, 'end': 11, 'usernam...           2688702500   \n",
       "4  {'mentions': [{'start': 3, 'end': 16, 'usernam...  1456423934103019522   \n",
       "\n",
       "                                                text                   id  \\\n",
       "0  RT @taylorr_media: Taylor Swift - Maroon https...  1584963020244992000   \n",
       "1  RT @TChartSwift: “Midnights” has reached 110 #...  1584963018299150338   \n",
       "2  I really want to buy the midnights vinyl due t...  1584963017191862272   \n",
       "3  RT @TheWrap: The hosts of #TheView will not st...  1584963015774208007   \n",
       "4  RT @cham_swiftie: 💎GIVEAWAY💎I’m giving away on...  1584963012389376000   \n",
       "\n",
       "                                      public_metrics  \\\n",
       "0  {'retweet_count': 1595, 'reply_count': 0, 'lik...   \n",
       "1  {'retweet_count': 358, 'reply_count': 0, 'like...   \n",
       "2  {'retweet_count': 0, 'reply_count': 0, 'like_c...   \n",
       "3  {'retweet_count': 50, 'reply_count': 0, 'like_...   \n",
       "4  {'retweet_count': 393, 'reply_count': 0, 'like...   \n",
       "\n",
       "                 created_at edit_history_tweet_ids lang  \n",
       "0  2022-10-25T17:40:05.000Z  [1584963020244992000]   en  \n",
       "1  2022-10-25T17:40:05.000Z  [1584963018299150338]   en  \n",
       "2  2022-10-25T17:40:05.000Z  [1584963017191862272]   en  \n",
       "3  2022-10-25T17:40:04.000Z  [1584963015774208007]   en  \n",
       "4  2022-10-25T17:40:03.000Z  [1584963012389376000]   en  "
      ]
     },
     "execution_count": 101,
     "metadata": {},
     "output_type": "execute_result"
    }
   ],
   "source": [
    "response_df.head()"
   ]
  },
  {
   "cell_type": "markdown",
   "id": "45b72031",
   "metadata": {},
   "source": [
    "This code is for separating the public metrics into a table."
   ]
  },
  {
   "cell_type": "code",
   "execution_count": 102,
   "id": "4f34cf96",
   "metadata": {},
   "outputs": [],
   "source": [
    "public_metrics_df = pd.DataFrame(list(response_df['public_metrics']))"
   ]
  },
  {
   "cell_type": "code",
   "execution_count": 103,
   "id": "a8dfd82d",
   "metadata": {},
   "outputs": [
    {
     "data": {
      "text/html": [
       "<div>\n",
       "<style scoped>\n",
       "    .dataframe tbody tr th:only-of-type {\n",
       "        vertical-align: middle;\n",
       "    }\n",
       "\n",
       "    .dataframe tbody tr th {\n",
       "        vertical-align: top;\n",
       "    }\n",
       "\n",
       "    .dataframe thead th {\n",
       "        text-align: right;\n",
       "    }\n",
       "</style>\n",
       "<table border=\"1\" class=\"dataframe\">\n",
       "  <thead>\n",
       "    <tr style=\"text-align: right;\">\n",
       "      <th></th>\n",
       "      <th>retweet_count</th>\n",
       "      <th>reply_count</th>\n",
       "      <th>like_count</th>\n",
       "      <th>quote_count</th>\n",
       "    </tr>\n",
       "  </thead>\n",
       "  <tbody>\n",
       "    <tr>\n",
       "      <th>0</th>\n",
       "      <td>1595</td>\n",
       "      <td>0</td>\n",
       "      <td>0</td>\n",
       "      <td>0</td>\n",
       "    </tr>\n",
       "    <tr>\n",
       "      <th>1</th>\n",
       "      <td>358</td>\n",
       "      <td>0</td>\n",
       "      <td>0</td>\n",
       "      <td>0</td>\n",
       "    </tr>\n",
       "    <tr>\n",
       "      <th>2</th>\n",
       "      <td>0</td>\n",
       "      <td>0</td>\n",
       "      <td>0</td>\n",
       "      <td>0</td>\n",
       "    </tr>\n",
       "    <tr>\n",
       "      <th>3</th>\n",
       "      <td>50</td>\n",
       "      <td>0</td>\n",
       "      <td>0</td>\n",
       "      <td>0</td>\n",
       "    </tr>\n",
       "    <tr>\n",
       "      <th>4</th>\n",
       "      <td>393</td>\n",
       "      <td>0</td>\n",
       "      <td>0</td>\n",
       "      <td>0</td>\n",
       "    </tr>\n",
       "    <tr>\n",
       "      <th>...</th>\n",
       "      <td>...</td>\n",
       "      <td>...</td>\n",
       "      <td>...</td>\n",
       "      <td>...</td>\n",
       "    </tr>\n",
       "    <tr>\n",
       "      <th>94</th>\n",
       "      <td>52663</td>\n",
       "      <td>0</td>\n",
       "      <td>0</td>\n",
       "      <td>0</td>\n",
       "    </tr>\n",
       "    <tr>\n",
       "      <th>95</th>\n",
       "      <td>50</td>\n",
       "      <td>0</td>\n",
       "      <td>0</td>\n",
       "      <td>0</td>\n",
       "    </tr>\n",
       "    <tr>\n",
       "      <th>96</th>\n",
       "      <td>2</td>\n",
       "      <td>0</td>\n",
       "      <td>0</td>\n",
       "      <td>0</td>\n",
       "    </tr>\n",
       "    <tr>\n",
       "      <th>97</th>\n",
       "      <td>186</td>\n",
       "      <td>0</td>\n",
       "      <td>0</td>\n",
       "      <td>0</td>\n",
       "    </tr>\n",
       "    <tr>\n",
       "      <th>98</th>\n",
       "      <td>0</td>\n",
       "      <td>0</td>\n",
       "      <td>0</td>\n",
       "      <td>0</td>\n",
       "    </tr>\n",
       "  </tbody>\n",
       "</table>\n",
       "<p>99 rows × 4 columns</p>\n",
       "</div>"
      ],
      "text/plain": [
       "    retweet_count  reply_count  like_count  quote_count\n",
       "0            1595            0           0            0\n",
       "1             358            0           0            0\n",
       "2               0            0           0            0\n",
       "3              50            0           0            0\n",
       "4             393            0           0            0\n",
       "..            ...          ...         ...          ...\n",
       "94          52663            0           0            0\n",
       "95             50            0           0            0\n",
       "96              2            0           0            0\n",
       "97            186            0           0            0\n",
       "98              0            0           0            0\n",
       "\n",
       "[99 rows x 4 columns]"
      ]
     },
     "execution_count": 103,
     "metadata": {},
     "output_type": "execute_result"
    }
   ],
   "source": [
    "public_metrics_df"
   ]
  },
  {
   "cell_type": "code",
   "execution_count": 104,
   "id": "1454405e",
   "metadata": {},
   "outputs": [],
   "source": [
    "response_df['retweets'] = public_metrics_df['retweet_count']\n",
    "response_df['replies'] = public_metrics_df['reply_count']\n",
    "response_df['likes'] = public_metrics_df['like_count']\n",
    "response_df['quotes'] = public_metrics_df['quote_count']"
   ]
  },
  {
   "cell_type": "code",
   "execution_count": 105,
   "id": "bc8a6470",
   "metadata": {
    "scrolled": true
   },
   "outputs": [
    {
     "data": {
      "text/html": [
       "<div>\n",
       "<style scoped>\n",
       "    .dataframe tbody tr th:only-of-type {\n",
       "        vertical-align: middle;\n",
       "    }\n",
       "\n",
       "    .dataframe tbody tr th {\n",
       "        vertical-align: top;\n",
       "    }\n",
       "\n",
       "    .dataframe thead th {\n",
       "        text-align: right;\n",
       "    }\n",
       "</style>\n",
       "<table border=\"1\" class=\"dataframe\">\n",
       "  <thead>\n",
       "    <tr style=\"text-align: right;\">\n",
       "      <th></th>\n",
       "      <th>entities</th>\n",
       "      <th>author_id</th>\n",
       "      <th>text</th>\n",
       "      <th>id</th>\n",
       "      <th>public_metrics</th>\n",
       "      <th>created_at</th>\n",
       "      <th>edit_history_tweet_ids</th>\n",
       "      <th>lang</th>\n",
       "      <th>retweets</th>\n",
       "      <th>replies</th>\n",
       "      <th>likes</th>\n",
       "      <th>quotes</th>\n",
       "    </tr>\n",
       "  </thead>\n",
       "  <tbody>\n",
       "    <tr>\n",
       "      <th>0</th>\n",
       "      <td>{'mentions': [{'start': 3, 'end': 17, 'usernam...</td>\n",
       "      <td>280135897</td>\n",
       "      <td>RT @taylorr_media: Taylor Swift - Maroon https...</td>\n",
       "      <td>1584963020244992000</td>\n",
       "      <td>{'retweet_count': 1595, 'reply_count': 0, 'lik...</td>\n",
       "      <td>2022-10-25T17:40:05.000Z</td>\n",
       "      <td>[1584963020244992000]</td>\n",
       "      <td>en</td>\n",
       "      <td>1595</td>\n",
       "      <td>0</td>\n",
       "      <td>0</td>\n",
       "      <td>0</td>\n",
       "    </tr>\n",
       "    <tr>\n",
       "      <th>1</th>\n",
       "      <td>{'mentions': [{'start': 3, 'end': 15, 'usernam...</td>\n",
       "      <td>1322798064327823360</td>\n",
       "      <td>RT @TChartSwift: “Midnights” has reached 110 #...</td>\n",
       "      <td>1584963018299150338</td>\n",
       "      <td>{'retweet_count': 358, 'reply_count': 0, 'like...</td>\n",
       "      <td>2022-10-25T17:40:05.000Z</td>\n",
       "      <td>[1584963018299150338]</td>\n",
       "      <td>en</td>\n",
       "      <td>358</td>\n",
       "      <td>0</td>\n",
       "      <td>0</td>\n",
       "      <td>0</td>\n",
       "    </tr>\n",
       "    <tr>\n",
       "      <th>2</th>\n",
       "      <td>NaN</td>\n",
       "      <td>570222924</td>\n",
       "      <td>I really want to buy the midnights vinyl due t...</td>\n",
       "      <td>1584963017191862272</td>\n",
       "      <td>{'retweet_count': 0, 'reply_count': 0, 'like_c...</td>\n",
       "      <td>2022-10-25T17:40:05.000Z</td>\n",
       "      <td>[1584963017191862272]</td>\n",
       "      <td>en</td>\n",
       "      <td>0</td>\n",
       "      <td>0</td>\n",
       "      <td>0</td>\n",
       "      <td>0</td>\n",
       "    </tr>\n",
       "    <tr>\n",
       "      <th>3</th>\n",
       "      <td>{'mentions': [{'start': 3, 'end': 11, 'usernam...</td>\n",
       "      <td>2688702500</td>\n",
       "      <td>RT @TheWrap: The hosts of #TheView will not st...</td>\n",
       "      <td>1584963015774208007</td>\n",
       "      <td>{'retweet_count': 50, 'reply_count': 0, 'like_...</td>\n",
       "      <td>2022-10-25T17:40:04.000Z</td>\n",
       "      <td>[1584963015774208007]</td>\n",
       "      <td>en</td>\n",
       "      <td>50</td>\n",
       "      <td>0</td>\n",
       "      <td>0</td>\n",
       "      <td>0</td>\n",
       "    </tr>\n",
       "    <tr>\n",
       "      <th>4</th>\n",
       "      <td>{'mentions': [{'start': 3, 'end': 16, 'usernam...</td>\n",
       "      <td>1456423934103019522</td>\n",
       "      <td>RT @cham_swiftie: 💎GIVEAWAY💎I’m giving away on...</td>\n",
       "      <td>1584963012389376000</td>\n",
       "      <td>{'retweet_count': 393, 'reply_count': 0, 'like...</td>\n",
       "      <td>2022-10-25T17:40:03.000Z</td>\n",
       "      <td>[1584963012389376000]</td>\n",
       "      <td>en</td>\n",
       "      <td>393</td>\n",
       "      <td>0</td>\n",
       "      <td>0</td>\n",
       "      <td>0</td>\n",
       "    </tr>\n",
       "  </tbody>\n",
       "</table>\n",
       "</div>"
      ],
      "text/plain": [
       "                                            entities            author_id  \\\n",
       "0  {'mentions': [{'start': 3, 'end': 17, 'usernam...            280135897   \n",
       "1  {'mentions': [{'start': 3, 'end': 15, 'usernam...  1322798064327823360   \n",
       "2                                                NaN            570222924   \n",
       "3  {'mentions': [{'start': 3, 'end': 11, 'usernam...           2688702500   \n",
       "4  {'mentions': [{'start': 3, 'end': 16, 'usernam...  1456423934103019522   \n",
       "\n",
       "                                                text                   id  \\\n",
       "0  RT @taylorr_media: Taylor Swift - Maroon https...  1584963020244992000   \n",
       "1  RT @TChartSwift: “Midnights” has reached 110 #...  1584963018299150338   \n",
       "2  I really want to buy the midnights vinyl due t...  1584963017191862272   \n",
       "3  RT @TheWrap: The hosts of #TheView will not st...  1584963015774208007   \n",
       "4  RT @cham_swiftie: 💎GIVEAWAY💎I’m giving away on...  1584963012389376000   \n",
       "\n",
       "                                      public_metrics  \\\n",
       "0  {'retweet_count': 1595, 'reply_count': 0, 'lik...   \n",
       "1  {'retweet_count': 358, 'reply_count': 0, 'like...   \n",
       "2  {'retweet_count': 0, 'reply_count': 0, 'like_c...   \n",
       "3  {'retweet_count': 50, 'reply_count': 0, 'like_...   \n",
       "4  {'retweet_count': 393, 'reply_count': 0, 'like...   \n",
       "\n",
       "                 created_at edit_history_tweet_ids lang  retweets  replies  \\\n",
       "0  2022-10-25T17:40:05.000Z  [1584963020244992000]   en      1595        0   \n",
       "1  2022-10-25T17:40:05.000Z  [1584963018299150338]   en       358        0   \n",
       "2  2022-10-25T17:40:05.000Z  [1584963017191862272]   en         0        0   \n",
       "3  2022-10-25T17:40:04.000Z  [1584963015774208007]   en        50        0   \n",
       "4  2022-10-25T17:40:03.000Z  [1584963012389376000]   en       393        0   \n",
       "\n",
       "   likes  quotes  \n",
       "0      0       0  \n",
       "1      0       0  \n",
       "2      0       0  \n",
       "3      0       0  \n",
       "4      0       0  "
      ]
     },
     "execution_count": 105,
     "metadata": {},
     "output_type": "execute_result"
    }
   ],
   "source": [
    "response_df.head()"
   ]
  },
  {
   "cell_type": "raw",
   "id": "03f6a1a8",
   "metadata": {},
   "source": [
    "Here I am joining together my two tabels into one."
   ]
  },
  {
   "cell_type": "code",
   "execution_count": 106,
   "id": "8f2ee7af",
   "metadata": {},
   "outputs": [],
   "source": [
    "response_df2 = response_df2.join(public_metrics_df)"
   ]
  },
  {
   "cell_type": "code",
   "execution_count": 107,
   "id": "fbf6250e",
   "metadata": {
    "scrolled": true
   },
   "outputs": [
    {
     "data": {
      "text/html": [
       "<div>\n",
       "<style scoped>\n",
       "    .dataframe tbody tr th:only-of-type {\n",
       "        vertical-align: middle;\n",
       "    }\n",
       "\n",
       "    .dataframe tbody tr th {\n",
       "        vertical-align: top;\n",
       "    }\n",
       "\n",
       "    .dataframe thead th {\n",
       "        text-align: right;\n",
       "    }\n",
       "</style>\n",
       "<table border=\"1\" class=\"dataframe\">\n",
       "  <thead>\n",
       "    <tr style=\"text-align: right;\">\n",
       "      <th></th>\n",
       "      <th>entities</th>\n",
       "      <th>author_id</th>\n",
       "      <th>text</th>\n",
       "      <th>id</th>\n",
       "      <th>public_metrics</th>\n",
       "      <th>created_at</th>\n",
       "      <th>edit_history_tweet_ids</th>\n",
       "      <th>lang</th>\n",
       "      <th>retweets</th>\n",
       "      <th>replies</th>\n",
       "      <th>likes</th>\n",
       "      <th>quotes</th>\n",
       "      <th>retweet_count</th>\n",
       "      <th>reply_count</th>\n",
       "      <th>like_count</th>\n",
       "      <th>quote_count</th>\n",
       "    </tr>\n",
       "  </thead>\n",
       "  <tbody>\n",
       "    <tr>\n",
       "      <th>0</th>\n",
       "      <td>{'mentions': [{'start': 3, 'end': 17, 'usernam...</td>\n",
       "      <td>280135897</td>\n",
       "      <td>RT @taylorr_media: Taylor Swift - Maroon https...</td>\n",
       "      <td>1584963020244992000</td>\n",
       "      <td>{'retweet_count': 1595, 'reply_count': 0, 'lik...</td>\n",
       "      <td>2022-10-25T17:40:05.000Z</td>\n",
       "      <td>[1584963020244992000]</td>\n",
       "      <td>en</td>\n",
       "      <td>1595</td>\n",
       "      <td>0</td>\n",
       "      <td>0</td>\n",
       "      <td>0</td>\n",
       "      <td>1595</td>\n",
       "      <td>0</td>\n",
       "      <td>0</td>\n",
       "      <td>0</td>\n",
       "    </tr>\n",
       "    <tr>\n",
       "      <th>1</th>\n",
       "      <td>{'mentions': [{'start': 3, 'end': 15, 'usernam...</td>\n",
       "      <td>1322798064327823360</td>\n",
       "      <td>RT @TChartSwift: “Midnights” has reached 110 #...</td>\n",
       "      <td>1584963018299150338</td>\n",
       "      <td>{'retweet_count': 358, 'reply_count': 0, 'like...</td>\n",
       "      <td>2022-10-25T17:40:05.000Z</td>\n",
       "      <td>[1584963018299150338]</td>\n",
       "      <td>en</td>\n",
       "      <td>358</td>\n",
       "      <td>0</td>\n",
       "      <td>0</td>\n",
       "      <td>0</td>\n",
       "      <td>358</td>\n",
       "      <td>0</td>\n",
       "      <td>0</td>\n",
       "      <td>0</td>\n",
       "    </tr>\n",
       "    <tr>\n",
       "      <th>2</th>\n",
       "      <td>NaN</td>\n",
       "      <td>570222924</td>\n",
       "      <td>I really want to buy the midnights vinyl due t...</td>\n",
       "      <td>1584963017191862272</td>\n",
       "      <td>{'retweet_count': 0, 'reply_count': 0, 'like_c...</td>\n",
       "      <td>2022-10-25T17:40:05.000Z</td>\n",
       "      <td>[1584963017191862272]</td>\n",
       "      <td>en</td>\n",
       "      <td>0</td>\n",
       "      <td>0</td>\n",
       "      <td>0</td>\n",
       "      <td>0</td>\n",
       "      <td>0</td>\n",
       "      <td>0</td>\n",
       "      <td>0</td>\n",
       "      <td>0</td>\n",
       "    </tr>\n",
       "    <tr>\n",
       "      <th>3</th>\n",
       "      <td>{'mentions': [{'start': 3, 'end': 11, 'usernam...</td>\n",
       "      <td>2688702500</td>\n",
       "      <td>RT @TheWrap: The hosts of #TheView will not st...</td>\n",
       "      <td>1584963015774208007</td>\n",
       "      <td>{'retweet_count': 50, 'reply_count': 0, 'like_...</td>\n",
       "      <td>2022-10-25T17:40:04.000Z</td>\n",
       "      <td>[1584963015774208007]</td>\n",
       "      <td>en</td>\n",
       "      <td>50</td>\n",
       "      <td>0</td>\n",
       "      <td>0</td>\n",
       "      <td>0</td>\n",
       "      <td>50</td>\n",
       "      <td>0</td>\n",
       "      <td>0</td>\n",
       "      <td>0</td>\n",
       "    </tr>\n",
       "    <tr>\n",
       "      <th>4</th>\n",
       "      <td>{'mentions': [{'start': 3, 'end': 16, 'usernam...</td>\n",
       "      <td>1456423934103019522</td>\n",
       "      <td>RT @cham_swiftie: 💎GIVEAWAY💎I’m giving away on...</td>\n",
       "      <td>1584963012389376000</td>\n",
       "      <td>{'retweet_count': 393, 'reply_count': 0, 'like...</td>\n",
       "      <td>2022-10-25T17:40:03.000Z</td>\n",
       "      <td>[1584963012389376000]</td>\n",
       "      <td>en</td>\n",
       "      <td>393</td>\n",
       "      <td>0</td>\n",
       "      <td>0</td>\n",
       "      <td>0</td>\n",
       "      <td>393</td>\n",
       "      <td>0</td>\n",
       "      <td>0</td>\n",
       "      <td>0</td>\n",
       "    </tr>\n",
       "  </tbody>\n",
       "</table>\n",
       "</div>"
      ],
      "text/plain": [
       "                                            entities            author_id  \\\n",
       "0  {'mentions': [{'start': 3, 'end': 17, 'usernam...            280135897   \n",
       "1  {'mentions': [{'start': 3, 'end': 15, 'usernam...  1322798064327823360   \n",
       "2                                                NaN            570222924   \n",
       "3  {'mentions': [{'start': 3, 'end': 11, 'usernam...           2688702500   \n",
       "4  {'mentions': [{'start': 3, 'end': 16, 'usernam...  1456423934103019522   \n",
       "\n",
       "                                                text                   id  \\\n",
       "0  RT @taylorr_media: Taylor Swift - Maroon https...  1584963020244992000   \n",
       "1  RT @TChartSwift: “Midnights” has reached 110 #...  1584963018299150338   \n",
       "2  I really want to buy the midnights vinyl due t...  1584963017191862272   \n",
       "3  RT @TheWrap: The hosts of #TheView will not st...  1584963015774208007   \n",
       "4  RT @cham_swiftie: 💎GIVEAWAY💎I’m giving away on...  1584963012389376000   \n",
       "\n",
       "                                      public_metrics  \\\n",
       "0  {'retweet_count': 1595, 'reply_count': 0, 'lik...   \n",
       "1  {'retweet_count': 358, 'reply_count': 0, 'like...   \n",
       "2  {'retweet_count': 0, 'reply_count': 0, 'like_c...   \n",
       "3  {'retweet_count': 50, 'reply_count': 0, 'like_...   \n",
       "4  {'retweet_count': 393, 'reply_count': 0, 'like...   \n",
       "\n",
       "                 created_at edit_history_tweet_ids lang  retweets  replies  \\\n",
       "0  2022-10-25T17:40:05.000Z  [1584963020244992000]   en      1595        0   \n",
       "1  2022-10-25T17:40:05.000Z  [1584963018299150338]   en       358        0   \n",
       "2  2022-10-25T17:40:05.000Z  [1584963017191862272]   en         0        0   \n",
       "3  2022-10-25T17:40:04.000Z  [1584963015774208007]   en        50        0   \n",
       "4  2022-10-25T17:40:03.000Z  [1584963012389376000]   en       393        0   \n",
       "\n",
       "   likes  quotes  retweet_count  reply_count  like_count  quote_count  \n",
       "0      0       0           1595            0           0            0  \n",
       "1      0       0            358            0           0            0  \n",
       "2      0       0              0            0           0            0  \n",
       "3      0       0             50            0           0            0  \n",
       "4      0       0            393            0           0            0  "
      ]
     },
     "execution_count": 107,
     "metadata": {},
     "output_type": "execute_result"
    }
   ],
   "source": [
    "response_df2.head()"
   ]
  },
  {
   "cell_type": "markdown",
   "id": "8558e57b",
   "metadata": {},
   "source": [
    "This is used for getting the username out of the entities."
   ]
  },
  {
   "cell_type": "code",
   "execution_count": 108,
   "id": "70f11e3c",
   "metadata": {},
   "outputs": [
    {
     "data": {
      "text/plain": [
       "list"
      ]
     },
     "execution_count": 108,
     "metadata": {},
     "output_type": "execute_result"
    }
   ],
   "source": [
    "type(response_dict['data'])"
   ]
  },
  {
   "cell_type": "code",
   "execution_count": 109,
   "id": "073e3cc3",
   "metadata": {
    "scrolled": true
   },
   "outputs": [
    {
     "data": {
      "text/plain": [
       "dict"
      ]
     },
     "execution_count": 109,
     "metadata": {},
     "output_type": "execute_result"
    }
   ],
   "source": [
    "type(response_dict['data'][0]['entities'])"
   ]
  },
  {
   "cell_type": "code",
   "execution_count": 110,
   "id": "82725d21",
   "metadata": {},
   "outputs": [
    {
     "data": {
      "text/plain": [
       "[{'start': 3,\n",
       "  'end': 17,\n",
       "  'username': 'taylorr_media',\n",
       "  'id': '1409776370608074752'}]"
      ]
     },
     "execution_count": 110,
     "metadata": {},
     "output_type": "execute_result"
    }
   ],
   "source": [
    "response_dict['data'][0]['entities']['mentions']"
   ]
  },
  {
   "cell_type": "code",
   "execution_count": null,
   "id": "5099d02d",
   "metadata": {
    "scrolled": true
   },
   "outputs": [],
   "source": [
    "response_dict['data']"
   ]
  },
  {
   "cell_type": "code",
   "execution_count": 112,
   "id": "fe89eacd",
   "metadata": {},
   "outputs": [],
   "source": [
    "entities_df = pd.DataFrame(list(response_dict['data'][0]['entities']['mentions']))"
   ]
  },
  {
   "cell_type": "code",
   "execution_count": 114,
   "id": "8d5d519e",
   "metadata": {},
   "outputs": [],
   "source": [
    "mentions = [x['entities']['mentions'] for x in response_dict['data'][0:2]]"
   ]
  },
  {
   "cell_type": "code",
   "execution_count": 115,
   "id": "3f331488",
   "metadata": {
    "scrolled": true
   },
   "outputs": [
    {
     "data": {
      "text/html": [
       "<div>\n",
       "<style scoped>\n",
       "    .dataframe tbody tr th:only-of-type {\n",
       "        vertical-align: middle;\n",
       "    }\n",
       "\n",
       "    .dataframe tbody tr th {\n",
       "        vertical-align: top;\n",
       "    }\n",
       "\n",
       "    .dataframe thead th {\n",
       "        text-align: right;\n",
       "    }\n",
       "</style>\n",
       "<table border=\"1\" class=\"dataframe\">\n",
       "  <thead>\n",
       "    <tr style=\"text-align: right;\">\n",
       "      <th></th>\n",
       "      <th>start</th>\n",
       "      <th>end</th>\n",
       "      <th>username</th>\n",
       "      <th>id</th>\n",
       "    </tr>\n",
       "  </thead>\n",
       "  <tbody>\n",
       "    <tr>\n",
       "      <th>0</th>\n",
       "      <td>3</td>\n",
       "      <td>17</td>\n",
       "      <td>taylorr_media</td>\n",
       "      <td>1409776370608074752</td>\n",
       "    </tr>\n",
       "  </tbody>\n",
       "</table>\n",
       "</div>"
      ],
      "text/plain": [
       "   start  end       username                   id\n",
       "0      3   17  taylorr_media  1409776370608074752"
      ]
     },
     "execution_count": 115,
     "metadata": {},
     "output_type": "execute_result"
    }
   ],
   "source": [
    "entities_df"
   ]
  },
  {
   "cell_type": "markdown",
   "id": "26a3a1d5",
   "metadata": {},
   "source": [
    "Like we talked about in class, this was all I was able to extract with my current coding knowledge."
   ]
  },
  {
   "cell_type": "markdown",
   "id": "c958efb6",
   "metadata": {},
   "source": [
    "This is used for getting the next 100 tweets. "
   ]
  },
  {
   "cell_type": "code",
   "execution_count": 116,
   "id": "ccdab48c",
   "metadata": {},
   "outputs": [
    {
     "data": {
      "text/plain": [
       "'b26v89c19zqg8o3fpzel4w69ehyjpb6hpef4xypcxyq2l'"
      ]
     },
     "execution_count": 116,
     "metadata": {},
     "output_type": "execute_result"
    }
   ],
   "source": [
    "response_dict['meta']['next_token']"
   ]
  },
  {
   "cell_type": "code",
   "execution_count": 117,
   "id": "6a7161db",
   "metadata": {},
   "outputs": [],
   "source": [
    "next_search_url = search_url + \"&next_token={}\".format(response_dict['meta']['next_token'])"
   ]
  },
  {
   "cell_type": "code",
   "execution_count": 118,
   "id": "cbc084b7",
   "metadata": {},
   "outputs": [],
   "source": [
    "next_response = requests.get(next_search_url, headers = headers)"
   ]
  },
  {
   "cell_type": "code",
   "execution_count": 119,
   "id": "b4f4ad48",
   "metadata": {},
   "outputs": [
    {
     "data": {
      "text/plain": [
       "200"
      ]
     },
     "execution_count": 119,
     "metadata": {},
     "output_type": "execute_result"
    }
   ],
   "source": [
    "next_response.status_code"
   ]
  },
  {
   "cell_type": "code",
   "execution_count": null,
   "id": "6180aaed",
   "metadata": {
    "scrolled": true
   },
   "outputs": [],
   "source": [
    "next_response.text"
   ]
  },
  {
   "cell_type": "code",
   "execution_count": 121,
   "id": "4f1fa0a0",
   "metadata": {},
   "outputs": [],
   "source": [
    "next_response_dict =json.loads(next_response.text)"
   ]
  },
  {
   "cell_type": "code",
   "execution_count": 122,
   "id": "71e84c88",
   "metadata": {
    "scrolled": true
   },
   "outputs": [
    {
     "data": {
      "text/plain": [
       "{'newest_id': '1584962906588065793',\n",
       " 'oldest_id': '1584962810932789248',\n",
       " 'result_count': 100,\n",
       " 'next_token': 'b26v89c19zqg8o3fpzel4w69ehqw86emxug04004cpful'}"
      ]
     },
     "execution_count": 122,
     "metadata": {},
     "output_type": "execute_result"
    }
   ],
   "source": [
    "next_response_dict['meta']"
   ]
  },
  {
   "cell_type": "markdown",
   "id": "53479804",
   "metadata": {},
   "source": [
    "Honestly in not Totally sure what this is used for. I think it is how we get the next 100 tweets but I'm not completely sure."
   ]
  },
  {
   "cell_type": "code",
   "execution_count": 123,
   "id": "60d37daa",
   "metadata": {},
   "outputs": [],
   "source": [
    "def twt_recent_search (query, num_pages, header):\n",
    "    response_list = []\n",
    "    next_token = ''\n",
    "    for i in range(0, num_pages):\n",
    "        if i > 0:\n",
    "            this_query = query + \"&next_token={}\".format(next_token)\n",
    "        else:\n",
    "            this_query = query\n",
    "        \n",
    "        this_response = requests.get(this_query, headers= header)\n",
    "        print(this_response.status_code)\n",
    "        this_response_dict = json.loads(this_response.text)\n",
    "        response_list.append(this_response_dict)\n",
    "        next_token = this_response_dict['meta']['next_token']\n",
    "        \n",
    "    return response_list"
   ]
  },
  {
   "cell_type": "code",
   "execution_count": 124,
   "id": "b2c2e61e",
   "metadata": {},
   "outputs": [
    {
     "name": "stdout",
     "output_type": "stream",
     "text": [
      "200\n",
      "200\n",
      "200\n",
      "200\n"
     ]
    }
   ],
   "source": [
    "response_list = twt_recent_search(search_url, 4, headers)"
   ]
  },
  {
   "cell_type": "markdown",
   "id": "d025bb1c",
   "metadata": {},
   "source": [
    "This is the table for the next 100 tweets."
   ]
  },
  {
   "cell_type": "code",
   "execution_count": 125,
   "id": "e4ae71ed",
   "metadata": {},
   "outputs": [],
   "source": [
    "results_1 = pd.DataFrame.from_records(response_list)"
   ]
  },
  {
   "cell_type": "code",
   "execution_count": 126,
   "id": "d7d178ba",
   "metadata": {},
   "outputs": [],
   "source": [
    "data_list = list(results_1['data'])"
   ]
  },
  {
   "cell_type": "code",
   "execution_count": 127,
   "id": "ee7309ba",
   "metadata": {},
   "outputs": [],
   "source": [
    "data_list_of_dfs = [pd.DataFrame(x) for x in data_list]"
   ]
  },
  {
   "cell_type": "code",
   "execution_count": 128,
   "id": "90551fde",
   "metadata": {},
   "outputs": [],
   "source": [
    "data_df = pd.concat(data_list_of_dfs)"
   ]
  },
  {
   "cell_type": "code",
   "execution_count": 129,
   "id": "24221c3e",
   "metadata": {},
   "outputs": [
    {
     "data": {
      "text/html": [
       "<div>\n",
       "<style scoped>\n",
       "    .dataframe tbody tr th:only-of-type {\n",
       "        vertical-align: middle;\n",
       "    }\n",
       "\n",
       "    .dataframe tbody tr th {\n",
       "        vertical-align: top;\n",
       "    }\n",
       "\n",
       "    .dataframe thead th {\n",
       "        text-align: right;\n",
       "    }\n",
       "</style>\n",
       "<table border=\"1\" class=\"dataframe\">\n",
       "  <thead>\n",
       "    <tr style=\"text-align: right;\">\n",
       "      <th></th>\n",
       "      <th>text</th>\n",
       "      <th>created_at</th>\n",
       "      <th>edit_history_tweet_ids</th>\n",
       "      <th>entities</th>\n",
       "      <th>id</th>\n",
       "      <th>public_metrics</th>\n",
       "      <th>lang</th>\n",
       "      <th>author_id</th>\n",
       "    </tr>\n",
       "  </thead>\n",
       "  <tbody>\n",
       "    <tr>\n",
       "      <th>0</th>\n",
       "      <td>RT @chartdata: Taylor Swift could become the f...</td>\n",
       "      <td>2022-10-25T17:40:40.000Z</td>\n",
       "      <td>[1584963164835172353]</td>\n",
       "      <td>{'mentions': [{'start': 3, 'end': 13, 'usernam...</td>\n",
       "      <td>1584963164835172353</td>\n",
       "      <td>{'retweet_count': 693, 'reply_count': 0, 'like...</td>\n",
       "      <td>en</td>\n",
       "      <td>1584461529621086208</td>\n",
       "    </tr>\n",
       "    <tr>\n",
       "      <th>1</th>\n",
       "      <td>RT @taypinkloml: #BLACKPINK as midnights track...</td>\n",
       "      <td>2022-10-25T17:40:39.000Z</td>\n",
       "      <td>[1584963163061030915]</td>\n",
       "      <td>{'mentions': [{'start': 3, 'end': 15, 'usernam...</td>\n",
       "      <td>1584963163061030915</td>\n",
       "      <td>{'retweet_count': 34, 'reply_count': 0, 'like_...</td>\n",
       "      <td>en</td>\n",
       "      <td>1552063285687631872</td>\n",
       "    </tr>\n",
       "    <tr>\n",
       "      <th>2</th>\n",
       "      <td>RT @chartdata: Taylor Swift could become the f...</td>\n",
       "      <td>2022-10-25T17:40:39.000Z</td>\n",
       "      <td>[1584963162465792000]</td>\n",
       "      <td>{'mentions': [{'start': 3, 'end': 13, 'usernam...</td>\n",
       "      <td>1584963162465792000</td>\n",
       "      <td>{'retweet_count': 693, 'reply_count': 0, 'like...</td>\n",
       "      <td>en</td>\n",
       "      <td>1214505904206336002</td>\n",
       "    </tr>\n",
       "    <tr>\n",
       "      <th>3</th>\n",
       "      <td>RT @contrarianshit: Y'ALL so I put ‘anti-hero’...</td>\n",
       "      <td>2022-10-25T17:40:39.000Z</td>\n",
       "      <td>[1584963161698209792]</td>\n",
       "      <td>{'mentions': [{'start': 3, 'end': 18, 'usernam...</td>\n",
       "      <td>1584963161698209792</td>\n",
       "      <td>{'retweet_count': 3857, 'reply_count': 0, 'lik...</td>\n",
       "      <td>en</td>\n",
       "      <td>434586623</td>\n",
       "    </tr>\n",
       "    <tr>\n",
       "      <th>4</th>\n",
       "      <td>RT @TheWrap: The hosts of #TheView will not st...</td>\n",
       "      <td>2022-10-25T17:40:39.000Z</td>\n",
       "      <td>[1584963161043918848]</td>\n",
       "      <td>{'mentions': [{'start': 3, 'end': 11, 'usernam...</td>\n",
       "      <td>1584963161043918848</td>\n",
       "      <td>{'retweet_count': 56, 'reply_count': 0, 'like_...</td>\n",
       "      <td>en</td>\n",
       "      <td>848216684141977602</td>\n",
       "    </tr>\n",
       "  </tbody>\n",
       "</table>\n",
       "</div>"
      ],
      "text/plain": [
       "                                                text  \\\n",
       "0  RT @chartdata: Taylor Swift could become the f...   \n",
       "1  RT @taypinkloml: #BLACKPINK as midnights track...   \n",
       "2  RT @chartdata: Taylor Swift could become the f...   \n",
       "3  RT @contrarianshit: Y'ALL so I put ‘anti-hero’...   \n",
       "4  RT @TheWrap: The hosts of #TheView will not st...   \n",
       "\n",
       "                 created_at edit_history_tweet_ids  \\\n",
       "0  2022-10-25T17:40:40.000Z  [1584963164835172353]   \n",
       "1  2022-10-25T17:40:39.000Z  [1584963163061030915]   \n",
       "2  2022-10-25T17:40:39.000Z  [1584963162465792000]   \n",
       "3  2022-10-25T17:40:39.000Z  [1584963161698209792]   \n",
       "4  2022-10-25T17:40:39.000Z  [1584963161043918848]   \n",
       "\n",
       "                                            entities                   id  \\\n",
       "0  {'mentions': [{'start': 3, 'end': 13, 'usernam...  1584963164835172353   \n",
       "1  {'mentions': [{'start': 3, 'end': 15, 'usernam...  1584963163061030915   \n",
       "2  {'mentions': [{'start': 3, 'end': 13, 'usernam...  1584963162465792000   \n",
       "3  {'mentions': [{'start': 3, 'end': 18, 'usernam...  1584963161698209792   \n",
       "4  {'mentions': [{'start': 3, 'end': 11, 'usernam...  1584963161043918848   \n",
       "\n",
       "                                      public_metrics lang            author_id  \n",
       "0  {'retweet_count': 693, 'reply_count': 0, 'like...   en  1584461529621086208  \n",
       "1  {'retweet_count': 34, 'reply_count': 0, 'like_...   en  1552063285687631872  \n",
       "2  {'retweet_count': 693, 'reply_count': 0, 'like...   en  1214505904206336002  \n",
       "3  {'retweet_count': 3857, 'reply_count': 0, 'lik...   en            434586623  \n",
       "4  {'retweet_count': 56, 'reply_count': 0, 'like_...   en   848216684141977602  "
      ]
     },
     "execution_count": 129,
     "metadata": {},
     "output_type": "execute_result"
    }
   ],
   "source": [
    "data_df.head()"
   ]
  },
  {
   "cell_type": "markdown",
   "id": "c056b4b1",
   "metadata": {},
   "source": [
    "The most helpful information for my query would be the text itself. I will need to do an analysis on the text to see what is the conversation regarding the song titles. "
   ]
  },
  {
   "cell_type": "markdown",
   "id": "b6b041e7",
   "metadata": {},
   "source": [
    "This is the total number of tweets I have gathered."
   ]
  },
  {
   "cell_type": "code",
   "execution_count": 130,
   "id": "c9154cab",
   "metadata": {},
   "outputs": [
    {
     "data": {
      "text/plain": [
       "399"
      ]
     },
     "execution_count": 130,
     "metadata": {},
     "output_type": "execute_result"
    }
   ],
   "source": [
    "len(data_df.index)"
   ]
  },
  {
   "cell_type": "markdown",
   "id": "54cf8ad4",
   "metadata": {},
   "source": [
    "This is how I exported my data to a csv file."
   ]
  },
  {
   "cell_type": "code",
   "execution_count": 131,
   "id": "ffb16023",
   "metadata": {},
   "outputs": [],
   "source": [
    "data_df.to_csv('twitter_text_report.csv')"
   ]
  },
  {
   "cell_type": "markdown",
   "id": "5fdb1476",
   "metadata": {},
   "source": [
    "I know that the data I have gathered has some weakness and limitations. First, I was not able to get all the usernames out of my data because of my lack of coding knowledge. This field would be useful to me because I believe a lot of tweets are from Taylor Swift 'stan' accounts or from 'swifties'. Once I have more coding knowledge I will be able see if that is actually true. Another weakness is that I do not yet have the knowledge to know exactly what to do with the data I have gathered. I could not have all the right information once I actually start doing my analysis. \n",
    "\n",
    "My next step would be to do the text analysis. I would be able to look at the data I have gathered and see what songs are being talked about the most.Are they being talked about more because people like them or dislike them? what is the actually conversation about the songs? \n",
    "\n",
    "One alternative approve I can think of is to pick some songs and run a query with the titles in it. That ways I will be able to have a smaller set of data to work with instead of every song on the album."
   ]
  }
 ],
 "metadata": {
  "kernelspec": {
   "display_name": "Python 3 (ipykernel)",
   "language": "python",
   "name": "python3"
  },
  "language_info": {
   "codemirror_mode": {
    "name": "ipython",
    "version": 3
   },
   "file_extension": ".py",
   "mimetype": "text/x-python",
   "name": "python",
   "nbconvert_exporter": "python",
   "pygments_lexer": "ipython3",
   "version": "3.10.4"
  }
 },
 "nbformat": 4,
 "nbformat_minor": 5
}
